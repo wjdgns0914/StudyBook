{
 "cells": [
  {
   "cell_type": "markdown",
   "metadata": {},
   "source": [
    "# Reader+batching+coordinator = Reading data"
   ]
  },
  {
   "cell_type": "code",
   "execution_count": 50,
   "metadata": {
    "collapsed": true
   },
   "outputs": [],
   "source": [
    "import tensorflow as tf\n",
    "%matplotlib inline\n",
    "import matplotlib.pyplot as plt"
   ]
  },
  {
   "cell_type": "code",
   "execution_count": 51,
   "metadata": {},
   "outputs": [
    {
     "name": "stdout",
     "output_type": "stream",
     "text": [
      "Extracting ./train-images-idx3-ubyte.gz\n",
      "Extracting ./train-labels-idx1-ubyte.gz\n",
      "Extracting ./t10k-images-idx3-ubyte.gz\n",
      "Extracting ./t10k-labels-idx1-ubyte.gz\n"
     ]
    }
   ],
   "source": [
    "\"\"\"\n",
    "먼저 가장 간단하게 MNIST를 불러와보자\n",
    "\"\"\"\n",
    "from tensorflow.examples.tutorials.mnist import input_data\n",
    "data=input_data.read_data_sets(\"./\",one_hot=True)"
   ]
  },
  {
   "cell_type": "code",
   "execution_count": 57,
   "metadata": {},
   "outputs": [
    {
     "name": "stdout",
     "output_type": "stream",
     "text": [
      "<class 'tensorflow.contrib.learn.python.learn.datasets.base.Datasets'>\n",
      "<class 'tensorflow.contrib.learn.python.learn.datasets.mnist.DataSet'>\n",
      "<class 'numpy.ndarray'>\n",
      "(55000, 784)\n",
      "(55000, 10)\n"
     ]
    },
    {
     "data": {
      "image/png": "[encoded data removed]",
      "text/plain": [
       "<matplotlib.figure.Figure at 0x7f05e3671588>"
      ]
     },
     "metadata": {},
     "output_type": "display_data"
    }
   ],
   "source": [
    "print(type(data))   \n",
    "print(type(data.train))   #이 두개는 뭔지 모르는 타입이다, 그냥 두자 \n",
    "print(type(data.train.images))  #numpy array이다.\n",
    "print((data.train.images).shape)\n",
    "print(data.train.labels.shape)  #numpy에서 shape은 괄호 안친다.\n",
    "\"\"\"\n",
    "위의 쉐잎에서 이 방법은 모든 데이터를 메모리에 올린다는 것을 알 수 있다.\n",
    "앞의 데이터 9개를 한번 보도록 하자\n",
    "\"\"\"\n",
    "images=data.train.images\n",
    "fig, axes = plt.subplots(3, 3)\n",
    "for i, ax in enumerate(axes.flat):\n",
    "    ax.imshow(images[i].reshape([28,28]), cmap='binary')\n",
    "    ax.set_xticks([])\n",
    "    ax.set_yticks([])"
   ]
  },
  {
   "cell_type": "code",
   "execution_count": 69,
   "metadata": {
    "collapsed": true
   },
   "outputs": [],
   "source": [
    "\"\"\"\n",
    "이제 queue를 이용하여 데이터를 불러올 것이다.\n",
    "1.어떤 파일에서 데이터를 불러올 것인지를 명시한다, MNIST는 이미지파일,라벨파일이 나누어져있다. 그래서 두개를 써준다.\n",
    "2.어떤 리더기로 데이터를 읽어올 것인지를 명시한다, MNIST,CIFAR 같은 데이터셋은 보통 바이너리화 된 데이터파일이다, 그래서 FixedLengthRecordReader를 써준다.\n",
    "tip:http://yann.lecun.com/exdb/mnist/ 여기에 가면 이 데이터파일에 대한 구성정보가 나와있다, 예를 들어 이미지파일은 헤더가 16바이트 있다고한다.\n",
    "->header_bytes=16\n",
    "3.리더기와 파일목록을 연결시켜준다. (key,value)를 리턴하는데 key는 이 설정대로 읽었을 때 몇번째 데이터인지를 나타낸다, value는 데이터의 구체적인 정보\n",
    "4.binary데이터를 읽은 것이기에 이걸 디코드해주어야한다, 8비트씩 묶어주면 된다.\n",
    "\"\"\"\n",
    "def __read_cifar(filenames, shuffle=False, cifar100=False):\n",
    "  \"\"\"Reads and parses examples from MNIST data files.\"\"\"\n",
    "  filename_queue_image = tf.train.string_input_producer(filenames[0], shuffle=shuffle,num_epochs=None)\n",
    "  filename_queue_label = tf.train.string_input_producer(filenames[1], shuffle=shuffle,num_epochs=None)\n",
    "  label_bytes = 1\n",
    "  height = 28\n",
    "  width = 28\n",
    "  depth = 1\n",
    "  image_bytes = height * width * depth\n",
    "  reader_image = tf.FixedLengthRecordReader(record_bytes=image_bytes,header_bytes=16)\n",
    "  reader_label = tf.FixedLengthRecordReader(record_bytes=label_bytes,header_bytes=8)\n",
    "  key_image, value_image = reader_image.read(filename_queue_image)\n",
    "  key_label, value_label = reader_label.read(filename_queue_label)\n",
    "\n",
    "  # Convert from a string to a vector of uint8 that is record_bytes long.\n",
    "  record_bytes_image= tf.decode_raw(value_image, tf.uint8)\n",
    "  record_bytes_label = tf.decode_raw(value_label, tf.uint8)\n",
    "\n",
    "  # The first bytes represent the label, which we convert from uint8->int32.\n",
    "  # The remaining bytes after the label represent the image, which we reshape\n",
    "  # from [depth * height * width] to [depth, height, width].\n",
    "    \n",
    "    \n",
    "  depth_major = tf.reshape(tf.slice(record_bytes_image, [0], [image_bytes]),  #def slice(input_, begin, size, name=None):\n",
    "                           [depth, height, width])\n",
    "  label = tf.cast(tf.slice(record_bytes_label, [0], [label_bytes]), tf.int32)\n",
    "\n",
    "  image = tf.transpose(depth_major, [1, 2, 0])\n",
    "\n",
    "  return tf.cast(image, tf.float32),label,key_image,key_label\n",
    "# image=__read_cifar(['./train-images.idx3-ubyte'])\n"
   ]
  },
  {
   "cell_type": "code",
   "execution_count": 62,
   "metadata": {
    "collapsed": true
   },
   "outputs": [],
   "source": [
    "\"\"\"\n",
    "5.여기서는 batching을 해준다, 이걸 안해주더라도 데이터를 읽을 수는 있다.\n",
    "\"\"\"\n",
    "class DataProvider:\n",
    "    def __init__(self, data, size=None, training=True):\n",
    "        self.size = size or [None]*4\n",
    "        self.data = data\n",
    "        self.training = training\n",
    "\n",
    "    def next_batch(self, batch_size, min_queue_examples=1000, num_threads=8):\n",
    "        \"\"\"Construct a queued batch of images and labels.\n",
    "\n",
    "        Args:\n",
    "        image: 3-D Tensor of [height, width, 3] of type.float32.\n",
    "        label: 1-D Tensor of type.int32\n",
    "        min_queue_examples: int32, minimum number of samples to retain\n",
    "        in the queue that provides of batches of examples.\n",
    "        batch_size: Number of images per batch.\n",
    "\n",
    "        Returns:\n",
    "        images: Images. 4D tensor of [batch_size, height, width, 3] size.\n",
    "        labels: Labels. 1D tensor of [batch_size] size.\n",
    "        \"\"\"\n",
    "        # Create a queue that shuffles the examples, and then\n",
    "        # read 'batch_size' images + labels from the example queue.\n",
    "\n",
    "        image, label,key_image,key_label = self.data\n",
    "        if self.training:\n",
    "            images, label_batch,key_images,key_labels = tf.train.shuffle_batch(\n",
    "            [image, label,key_image,key_label],\n",
    "            batch_size=batch_size,\n",
    "            num_threads=8,\n",
    "            capacity=min_queue_examples + 3 * batch_size,\n",
    "            min_after_dequeue=min_queue_examples)\n",
    "        else:\n",
    "            images, label_batch = tf.train.batch(\n",
    "            [preprocess_evaluation(image, height=self.size[1], width=self.size[2]), label],\n",
    "            batch_size=batch_size,\n",
    "            num_threads=num_threads,\n",
    "            capacity=min_queue_examples + 3 * batch_size)\n",
    "\n",
    "        return images, tf.reshape(label_batch, [batch_size]),key_images,key_labels"
   ]
  },
  {
   "cell_type": "code",
   "execution_count": 64,
   "metadata": {
    "collapsed": true
   },
   "outputs": [],
   "source": [
    "a=DataProvider(__read_cifar([['./train-images.idx3-ubyte'],['./train-labels.idx1-ubyte']]), [50000, 28,28,1], True)"
   ]
  },
  {
   "cell_type": "code",
   "execution_count": 70,
   "metadata": {},
   "outputs": [
    {
     "name": "stdout",
     "output_type": "stream",
     "text": [
      "Tensor(\"shuffle_batch_1:0\", shape=(1, 28, 28, 1), dtype=float32) Tensor(\"Reshape_50:0\", shape=(1,), dtype=int32)\n",
      "Tensor(\"shuffle_batch_1:2\", shape=(1,), dtype=string) Tensor(\"shuffle_batch_1:3\", shape=(1,), dtype=string)\n"
     ]
    }
   ],
   "source": [
    "b,c,d,e=a.next_batch(1)\n",
    "print(b,c)\n",
    "print(d,e)"
   ]
  },
  {
   "cell_type": "code",
   "execution_count": 80,
   "metadata": {},
   "outputs": [],
   "source": [
    "\"\"\"\n",
    "Coordinator가 꼭 필요하다, 위에서 나온건 겉으로 보기에는 멀쩡해보이지만 조정담당이 없으면 데이터를 한개도!! 뱉어내지 못한다.\n",
    "\"\"\"\n",
    "sess=tf.InteractiveSession()\n",
    "coord=tf.train.Coordinator()\n",
    "threads=tf.train.start_queue_runners(sess=sess,coord=coord)\n"
   ]
  },
  {
   "cell_type": "code",
   "execution_count": 81,
   "metadata": {},
   "outputs": [
    {
     "data": {
      "image/png": "[encoded data removed]",
      "text/plain": [
       "<matplotlib.figure.Figure at 0x7f05e10774e0>"
      ]
     },
     "metadata": {},
     "output_type": "display_data"
    }
   ],
   "source": [
    "examples_img,examples_label=[],[]\n",
    "for i in range(9):\n",
    "    temp_img,temp_label=sess.run([tf.reshape(b,shape=[28,28]),c])\n",
    "    examples_img.append(temp_img)\n",
    "    examples_label.append(temp_label)\n",
    "\n",
    "fig, axes = plt.subplots(3, 3)\n",
    "fig.subplots_adjust(hspace=0.3, wspace=0.3)\n",
    "for i, ax in enumerate(axes.flat):\n",
    "    ax.imshow(examples_img[i].reshape([28,28]), cmap='binary')\n",
    "    ax.set_xlabel(str(examples_label[i]))\n",
    "    ax.set_xticks([])\n",
    "    ax.set_yticks([])"
   ]
  },
  {
   "cell_type": "code",
   "execution_count": 79,
   "metadata": {
    "collapsed": true
   },
   "outputs": [],
   "source": [
    "coord.request_stop()\n",
    "coord.join(threads)\n",
    "coord.clear_stop()\n",
    "sess.close()\n",
    "\n",
    "\n",
    "\n",
    "\"\"\"\n",
    "2)coordinator없이 데이터 읽으려고 함\n",
    "3)헤더 지정 안해줌\n",
    "4)label하고 이미지하고 다른현상,sess.run\n",
    "5)subplot\n",
    "6)gz file자동압축해제 안되는 현상\n",
    "\"\"\""
   ]
  }
 ],
 "metadata": {
  "kernelspec": {
   "display_name": "Python 3",
   "language": "python",
   "name": "python3"
  },
  "language_info": {
   "codemirror_mode": {
    "name": "ipython",
    "version": 3
   },
   "file_extension": ".py",
   "mimetype": "text/x-python",
   "name": "python",
   "nbconvert_exporter": "python",
   "pygments_lexer": "ipython3",
   "version": "3.6.1"
  }
 },
 "nbformat": 4,
 "nbformat_minor": 2
}
