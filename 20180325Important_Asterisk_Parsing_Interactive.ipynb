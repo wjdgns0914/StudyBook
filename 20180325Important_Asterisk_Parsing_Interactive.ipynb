{
 "cells": [
  {
   "cell_type": "markdown",
   "metadata": {},
   "source": [
    "## 1.tf.cast를 너무 자주 쓰는거 같은데? - 자주 쓸 수 밖에 없다.\n",
    "아래처럼 a와 b의 자료형이 다르면 tf.equal은 그걸 기어이 에러를 내준다, tf.cast를 써줘야한다.\n",
    "그리고 tf.equal을 하면 boolean으로 반환이 되는데 그걸 다른 애랑 연산하려면 또 tf.cast를 써야한다."
   ]
  },
  {
   "cell_type": "code",
   "execution_count": 1,
   "metadata": {
    "scrolled": true
   },
   "outputs": [
    {
     "ename": "ModuleNotFoundError",
     "evalue": "No module named 'tensorflow'",
     "output_type": "error",
     "traceback": [
      "\u001b[0;31m---------------------------------------------------------------------------\u001b[0m",
      "\u001b[0;31mModuleNotFoundError\u001b[0m                       Traceback (most recent call last)",
      "\u001b[0;32m<ipython-input-1-f639b86355f0>\u001b[0m in \u001b[0;36m<module>\u001b[0;34m()\u001b[0m\n\u001b[0;32m----> 1\u001b[0;31m \u001b[0;32mimport\u001b[0m \u001b[0mtensorflow\u001b[0m \u001b[0;32mas\u001b[0m \u001b[0mtf\u001b[0m\u001b[0;34m\u001b[0m\u001b[0m\n\u001b[0m\u001b[1;32m      2\u001b[0m \u001b[0ma\u001b[0m\u001b[0;34m=\u001b[0m\u001b[0mtf\u001b[0m\u001b[0;34m.\u001b[0m\u001b[0mconstant\u001b[0m\u001b[0;34m(\u001b[0m\u001b[0;34m[\u001b[0m\u001b[0;36m0\u001b[0m\u001b[0;34m,\u001b[0m\u001b[0;36m1\u001b[0m\u001b[0;34m,\u001b[0m\u001b[0;36m2\u001b[0m\u001b[0;34m,\u001b[0m\u001b[0;36m3\u001b[0m\u001b[0;34m,\u001b[0m\u001b[0;36m4\u001b[0m\u001b[0;34m,\u001b[0m\u001b[0;36m5\u001b[0m\u001b[0;34m,\u001b[0m\u001b[0;36m6\u001b[0m\u001b[0;34m,\u001b[0m\u001b[0;36m7\u001b[0m\u001b[0;34m,\u001b[0m\u001b[0;36m8\u001b[0m\u001b[0;34m,\u001b[0m\u001b[0;36m9\u001b[0m\u001b[0;34m]\u001b[0m\u001b[0;34m)\u001b[0m\u001b[0;34m\u001b[0m\u001b[0m\n\u001b[1;32m      3\u001b[0m \u001b[0mb\u001b[0m\u001b[0;34m=\u001b[0m\u001b[0mtf\u001b[0m\u001b[0;34m.\u001b[0m\u001b[0mconstant\u001b[0m\u001b[0;34m(\u001b[0m\u001b[0;34m[\u001b[0m\u001b[0;36m0.\u001b[0m\u001b[0;34m,\u001b[0m\u001b[0;36m1\u001b[0m\u001b[0;34m,\u001b[0m\u001b[0;36m2\u001b[0m\u001b[0;34m,\u001b[0m\u001b[0;36m3\u001b[0m\u001b[0;34m,\u001b[0m\u001b[0;36m4\u001b[0m\u001b[0;34m,\u001b[0m\u001b[0;36m5\u001b[0m\u001b[0;34m,\u001b[0m\u001b[0;36m6\u001b[0m\u001b[0;34m,\u001b[0m\u001b[0;36m7\u001b[0m\u001b[0;34m,\u001b[0m\u001b[0;36m7\u001b[0m\u001b[0;34m,\u001b[0m\u001b[0;36m8\u001b[0m\u001b[0;34m]\u001b[0m\u001b[0;34m)\u001b[0m\u001b[0;34m\u001b[0m\u001b[0m\n\u001b[1;32m      4\u001b[0m \u001b[0;31m# accuracy=tf.equal(a,b)  #이렇게 하면 에러가 난다, a와 b의 자료형이 달라서, 상당히 융통성이 없는 녀석이다.\u001b[0m\u001b[0;34m\u001b[0m\u001b[0;34m\u001b[0m\u001b[0m\n\u001b[1;32m      5\u001b[0m \u001b[0ma\u001b[0m\u001b[0;34m=\u001b[0m\u001b[0mtf\u001b[0m\u001b[0;34m.\u001b[0m\u001b[0mconstant\u001b[0m\u001b[0;34m(\u001b[0m\u001b[0;34m[\u001b[0m\u001b[0;36m0\u001b[0m\u001b[0;34m,\u001b[0m\u001b[0;36m1\u001b[0m\u001b[0;34m,\u001b[0m\u001b[0;36m2\u001b[0m\u001b[0;34m,\u001b[0m\u001b[0;36m3\u001b[0m\u001b[0;34m,\u001b[0m\u001b[0;36m4\u001b[0m\u001b[0;34m,\u001b[0m\u001b[0;36m5\u001b[0m\u001b[0;34m,\u001b[0m\u001b[0;36m6\u001b[0m\u001b[0;34m,\u001b[0m\u001b[0;36m7\u001b[0m\u001b[0;34m,\u001b[0m\u001b[0;36m8\u001b[0m\u001b[0;34m,\u001b[0m\u001b[0;36m9.\u001b[0m\u001b[0;34m]\u001b[0m\u001b[0;34m)\u001b[0m\u001b[0;34m\u001b[0m\u001b[0m\n",
      "\u001b[0;31mModuleNotFoundError\u001b[0m: No module named 'tensorflow'"
     ]
    }
   ],
   "source": [
    "import tensorflow as tf\n",
    "a=tf.constant([0,1,2,3,4,5,6,7,8,9])\n",
    "b=tf.constant([0.,1,2,3,4,5,6,7,7,8])\n",
    "# accuracy=tf.equal(a,b)  #이렇게 하면 에러가 난다, a와 b의 자료형이 달라서, 상당히 융통성이 없는 녀석이다.\n",
    "a=tf.constant([0,1,2,3,4,5,6,7,8,9.])\n",
    "accuracy=tf.equal(a,b)\n",
    "print(accuracy)\n",
    "\n",
    "# c=accuracy+a  #에러\n",
    "c=tf.cast(accuracy,dtype=tf.float32)+a\n",
    "print(c)\n",
    "a=5\n",
    "b=5.\n",
    "print(type(a),type(b),a+b)     #이처럼 파이썬 자체는 다른 형에 대한 연산에 유연하지만 텐서플로우는 좀 더 엄격한거 같다."
   ]
  },
  {
   "cell_type": "markdown",
   "metadata": {},
   "source": [
    "## 2. axis/rank는 가장 바깥부터 센다.\n",
    "order를 왜 알아야하는가? axis라고도 하는데 tf.argmax 같은 함수를 쓸 때  Describes which axis of the input Tensor to reduce across."
   ]
  },
  {
   "cell_type": "code",
   "execution_count": 15,
   "metadata": {},
   "outputs": [
    {
     "name": "stdout",
     "output_type": "stream",
     "text": [
      "Tensor(\"Const_31:0\", shape=(2, 3, 4), dtype=int32)\n",
      "Tensor(\"ArgMax_5:0\", shape=(2, 4), dtype=int64)\n",
      "Tensor(\"ArgMax_6:0\", shape=(2, 3), dtype=int64)\n"
     ]
    }
   ],
   "source": [
    "#shape=(a,b,c)면 a,b,c가 아래와 같은 텐서에서 바깥부터 rank0, rank1,rank2니, rank0은 a, rank1은 b..이런 식으로..\n",
    "#tf.argmax에서 axis 지정해주면 그 axis 방향으로 각 elements의 최댓값을 구한다.\n",
    "a=tf.constant([[[1,2,3,4],[3,4,5,5],[3,48,8,6]],[[1,2,6,3],[3,48,8,6],[3,48,8,6]]])\n",
    "print(a)\n",
    "print(tf.argmax(a,axis=-2))\n",
    "print(tf.argmax(a,dimension=2))"
   ]
  },
  {
   "attachments": {},
   "cell_type": "markdown",
   "metadata": {},
   "source": [
    "## 3.도대체 함수인자에 별은 뭐니? - 가변인자란다"
   ]
  },
  {
   "cell_type": "code",
   "execution_count": 1,
   "metadata": {},
   "outputs": [],
   "source": [
    "#1) *args, **kwargs였나..이렇게 두 종류 있다.\n",
    "#2) *는 영어로 Asterisk라고 한다. http://www.edwith.org/aipython/lecture/22956/\n",
    "#3) 별 한개와 두개의 차이는 depth의 차이(별두개는 한개를 두번 쓰는 효과라든지, 별세개는 한개를 세번쓰는 효과라든지..)가 아니다.\n",
    "#   별 한개는 list/tuple에 쓰이고 별 두개는 keyword를 가지는 sequence 데이터, 즉 dictionary에 쓰인다.\n",
    "#4) 정리:asterisk는 함수인자에 쓰여서 가변인자를 표현하고. 리스트나 tuple 같은 sequence data 앞에 쓰여서 unpacking을 해준다."
   ]
  },
  {
   "cell_type": "code",
   "execution_count": 51,
   "metadata": {},
   "outputs": [
    {
     "name": "stdout",
     "output_type": "stream",
     "text": [
      "[[1, 2, 3, 4], [5, 6, 7, 8]]\n",
      "[1, 2, 3, 4, 5, 6, 7, 8]\n",
      "==========my_print\n",
      "<class 'tuple'>\n",
      "(\"Hi, I'm hoon\", [1, 2, 3, 4], [5, 6, 7, 8])\n",
      "Hi, I'm hoon [1, 2, 3, 4] [5, 6, 7, 8]\n",
      "Hi, I'm hoon [1, 2, 3, 4] [5, 6, 7, 8]\n",
      "==========my_print2\n",
      "<class 'dict'>\n",
      "{'a': \"Hi, I'm hoon\", 'b': [1, 2, 3, 4], 'c': [5, 6, 7, 8]}\n",
      "a b c\n",
      "==========my_print3\n",
      "3 4 5\n",
      "b a c\n",
      "4 3 5\n"
     ]
    }
   ],
   "source": [
    "# *은 끄집어내주는 역할을 한다고 생각하자.\n",
    "a=[1,2,3,4]\n",
    "b=[5,6,7,8]\n",
    "print([a,b])\n",
    "print([*a,*b]) #별을 붙이면 아래 처럼 list안에 있는 elements가 나온다.\n",
    "\n",
    "def my_print(*args):\n",
    "    print(type(args))\n",
    "    print(args)     \n",
    "    print(*args)   \n",
    "    #type(*args)는 에러가 난다, 왜냐면 args는 튜플이고, *args는 그 튜플에 있는걸 끄집어내주니까,\n",
    "    #type()이라는 함수에 인풋을 여러개 넣은 셈이 되니까.\n",
    "print(\"==========my_print\")\n",
    "my_print(\"Hi, I'm hoon\",a,b)\n",
    "print(\"Hi, I'm hoon\",a,b)\n",
    "\n",
    "def my_print2(**kwargs):\n",
    "    print(type(kwargs))         #dict 자료형이라는걸 알 수 있다.\n",
    "    print(kwargs)     \n",
    "    print(*kwargs)\n",
    "    #print(**kwargs)    #에러 발생, 함수의 인자정도로만 쓸 수 있는 듯 하다.\n",
    "print(\"==========my_print2\")\n",
    "my_print2(a=\"Hi, I'm hoon\",b=a,c=b)  #반드시 a=b형태로 써야한다, 앞쪽이 key가 되고 오른쪽이 value가 된다.\n",
    "\n",
    "def my_print3(a,b,c):\n",
    "    print(a,b,c)\n",
    "\n",
    "print(\"==========my_print3\")\n",
    "my_print3(3,4,5)\n",
    "d={'b':3,'a':4,'c':5}\n",
    "#my_print3(d) #에러 발생\n",
    "my_print3(*d) #key를 입력으로\n",
    "my_print3(**d) #value를 입력으로\n",
    "#많은 경우 *args,**kwargs를 같이 쓰는거 같다, 전자는 key를 명시안한 인자들을 받고, 후자는 key가 명시 된 인자들을 받는다."
   ]
  },
  {
   "cell_type": "markdown",
   "metadata": {},
   "source": [
    "## 4.엑셀 불러오기\n",
    "일단 openpyxl이라는 패키지를 설치해야한다."
   ]
  },
  {
   "cell_type": "code",
   "execution_count": 4,
   "metadata": {},
   "outputs": [
    {
     "name": "stdout",
     "output_type": "stream",
     "text": [
      "['2Levels', '3Levels', '4Levels']\n",
      "-1\n",
      "2Levels\n",
      "(<Cell '2Levels'.A2>, <Cell '2Levels'.B2>)\n",
      "-1\n",
      "   wb2['A']    : (<Cell '2Levels'.A1>, <Cell '2Levels'.A2>)\n",
      "  wb2['A:B']   : ((<Cell '2Levels'.A1>, <Cell '2Levels'.A2>), (<Cell '2Levels'.B1>, <Cell '2Levels'.B2>))\n",
      "  wb2.rows     : <generator object Worksheet._cells_by_row at 0x7fbe13341e60>\n",
      "tuple(wb2.rows): (<Cell '2Levels'.A1>, <Cell '2Levels'.B1>)\n",
      "-1\n",
      "1\n",
      "[-1, 1]\n"
     ]
    }
   ],
   "source": [
    "from openpyxl import load_workbook\n",
    "wb = load_workbook(filename = 'level_info.xlsx')  #엑셀파일을 불러온다.\n",
    "print(wb.sheetnames)    #엑셀파일에 있는 시트들을 보여준다\n",
    "print(str(wb.sheetnames).find('5Levels'))\n",
    "wb2 = wb['2Levels']     #시트를 읽는다.\n",
    "print(wb2.title)        #시트의 이름을 확인 할 수 있다.\n",
    "print(wb2['2'])    #특정셀을 읽는다. (==wb2['B1'])\n",
    "print(wb2['A1'].value)  #특정셀의 값을 읽는다.1\n",
    "print(\"   wb2['A']    :\",wb2['A'])         #특정 열의 값들을 읽는다.\n",
    "print(\"  wb2['A:B']   :\",wb2['A:B'])       #특정 열들의 값들을 읽는다.\n",
    "print(\"  wb2.rows     :\",wb2.rows)        \n",
    "#wb2.rows의 자료형은 상당히 특이한데, tuple이나 iterator로 쓸 때 잘 작동하는걸 보니 관련 매서드를 잘 작성해 놓은거 같ㄷ.\n",
    "print(\"tuple(wb2.rows):\",tuple(wb2.rows)[0])  #행별로 값들을 읽어서 tuple로 묶어준다.\n",
    "for a in tuple(wb2.rows)[0]:\n",
    "    print(a.value)\n",
    "print([cell.value for cell in tuple(wb2.rows)[0]])\n",
    "#     print([a.value,b.value])\n"
   ]
  },
  {
   "cell_type": "markdown",
   "metadata": {},
   "source": [
    "## 5.텐서가 무엇이야, tf.assign은 무엇을 반환하지?\n",
    "일단은 텐서는 operation node가 그 operation의 아웃풋을 위해 미리 만들어놓은 node, output node라고 생각하자.\n",
    "이 output node는 다른 노드의 input이 될테니까 input node라고도 볼 수 있지."
   ]
  },
  {
   "cell_type": "code",
   "execution_count": 60,
   "metadata": {},
   "outputs": [
    {
     "name": "stdout",
     "output_type": "stream",
     "text": [
      "node {\n",
      "  name: \"Const\"\n",
      "  op: \"Const\"\n",
      "  attr {\n",
      "    key: \"dtype\"\n",
      "    value {\n",
      "      type: DT_INT32\n",
      "    }\n",
      "  }\n",
      "  attr {\n",
      "    key: \"value\"\n",
      "    value {\n",
      "      tensor {\n",
      "        dtype: DT_INT32\n",
      "        tensor_shape {\n",
      "        }\n",
      "        int_val: 1\n",
      "      }\n",
      "    }\n",
      "  }\n",
      "}\n",
      "versions {\n",
      "  producer: 24\n",
      "}\n",
      "\n",
      "Tensor(\"Const:0\", shape=(), dtype=int32)\n"
     ]
    }
   ],
   "source": [
    "tf.reset_default_graph()\n",
    "value = tf.constant(1)\n",
    "print(tf.get_default_graph().as_graph_def())\n",
    "print(value)"
   ]
  },
  {
   "cell_type": "code",
   "execution_count": 62,
   "metadata": {},
   "outputs": [
    {
     "name": "stdout",
     "output_type": "stream",
     "text": [
      "node {\n",
      "  name: \"ones\"\n",
      "  op: \"Const\"\n",
      "  attr {\n",
      "    key: \"dtype\"\n",
      "    value {\n",
      "      type: DT_FLOAT\n",
      "    }\n",
      "  }\n",
      "  attr {\n",
      "    key: \"value\"\n",
      "    value {\n",
      "      tensor {\n",
      "        dtype: DT_FLOAT\n",
      "        tensor_shape {\n",
      "        }\n",
      "        float_val: 1.0\n",
      "      }\n",
      "    }\n",
      "  }\n",
      "}\n",
      "node {\n",
      "  name: \"Variable\"\n",
      "  op: \"VariableV2\"\n",
      "  attr {\n",
      "    key: \"container\"\n",
      "    value {\n",
      "      s: \"\"\n",
      "    }\n",
      "  }\n",
      "  attr {\n",
      "    key: \"dtype\"\n",
      "    value {\n",
      "      type: DT_FLOAT\n",
      "    }\n",
      "  }\n",
      "  attr {\n",
      "    key: \"shape\"\n",
      "    value {\n",
      "      shape {\n",
      "      }\n",
      "    }\n",
      "  }\n",
      "  attr {\n",
      "    key: \"shared_name\"\n",
      "    value {\n",
      "      s: \"\"\n",
      "    }\n",
      "  }\n",
      "}\n",
      "node {\n",
      "  name: \"Variable/Assign\"\n",
      "  op: \"Assign\"\n",
      "  input: \"Variable\"\n",
      "  input: \"ones\"\n",
      "  attr {\n",
      "    key: \"T\"\n",
      "    value {\n",
      "      type: DT_FLOAT\n",
      "    }\n",
      "  }\n",
      "  attr {\n",
      "    key: \"_class\"\n",
      "    value {\n",
      "      list {\n",
      "        s: \"loc:@Variable\"\n",
      "      }\n",
      "    }\n",
      "  }\n",
      "  attr {\n",
      "    key: \"use_locking\"\n",
      "    value {\n",
      "      b: true\n",
      "    }\n",
      "  }\n",
      "  attr {\n",
      "    key: \"validate_shape\"\n",
      "    value {\n",
      "      b: true\n",
      "    }\n",
      "  }\n",
      "}\n",
      "node {\n",
      "  name: \"Variable/read\"\n",
      "  op: \"Identity\"\n",
      "  input: \"Variable\"\n",
      "  attr {\n",
      "    key: \"T\"\n",
      "    value {\n",
      "      type: DT_FLOAT\n",
      "    }\n",
      "  }\n",
      "  attr {\n",
      "    key: \"_class\"\n",
      "    value {\n",
      "      list {\n",
      "        s: \"loc:@Variable\"\n",
      "      }\n",
      "    }\n",
      "  }\n",
      "}\n",
      "node {\n",
      "  name: \"add/y\"\n",
      "  op: \"Const\"\n",
      "  attr {\n",
      "    key: \"dtype\"\n",
      "    value {\n",
      "      type: DT_FLOAT\n",
      "    }\n",
      "  }\n",
      "  attr {\n",
      "    key: \"value\"\n",
      "    value {\n",
      "      tensor {\n",
      "        dtype: DT_FLOAT\n",
      "        tensor_shape {\n",
      "        }\n",
      "        float_val: 3.0\n",
      "      }\n",
      "    }\n",
      "  }\n",
      "}\n",
      "node {\n",
      "  name: \"add\"\n",
      "  op: \"Add\"\n",
      "  input: \"Variable/read\"\n",
      "  input: \"add/y\"\n",
      "  attr {\n",
      "    key: \"T\"\n",
      "    value {\n",
      "      type: DT_FLOAT\n",
      "    }\n",
      "  }\n",
      "}\n",
      "versions {\n",
      "  producer: 24\n",
      "}\n",
      "\n",
      "<tf.Variable 'Variable:0' shape=() dtype=float32_ref>\n",
      "Tensor(\"add:0\", shape=(), dtype=float32)\n"
     ]
    }
   ],
   "source": [
    "tf.reset_default_graph()\n",
    "value = tf.Variable(tf.ones_initializer()(()))\n",
    "value2 = value+3\n",
    "print(tf.get_default_graph().as_graph_def())\n",
    "print(value)\n",
    "print(value2)"
   ]
  },
  {
   "cell_type": "code",
   "execution_count": 68,
   "metadata": {},
   "outputs": [
    {
     "name": "stdout",
     "output_type": "stream",
     "text": [
      "<tf.Variable 'Variable_6:0' shape=(2,) dtype=float32_ref>\n",
      "Tensor(\"Assign_10:0\", shape=(2,), dtype=float32_ref)\n",
      "  Original a: [3. 3.]\n",
      "  b-Update a: [3. 2.]\n",
      "       new a: [3. 2.]\n",
      "  c-Update a: [6. 4.]\n",
      "       new a: [6. 4.]\n",
      "     Check b: [3. 2.]\n"
     ]
    }
   ],
   "source": [
    "a=tf.Variable([3.,3])\n",
    "b=tf.assign(a,[3.,2])  #Returns:A Tensor that will hold the new value of 'ref' after the assignment has completed.\n",
    "c=tf.assign(a,[6,4.])\n",
    "print(a)\n",
    "print(b)\n",
    "with tf.Session() as sess:\n",
    "    sess.run(tf.global_variables_initializer())\n",
    "    print(\"%12s:\"%'Original a',sess.run(a))\n",
    "    print(\"%12s:\"%'b-Update a',sess.run(b))\n",
    "    print(\"%12s:\"%'new a',sess.run(a))      \n",
    "    #print 안에서 sess.run을 실행했지만 실제 a가 업데이트 된다. sess.run은 어디서 실행되든 유효하다라고 생각 할 수 있다.\n",
    "    print(\"%12s:\"%'c-Update a',sess.run(c))\n",
    "    print(\"%12s:\"%'new a',sess.run(a))\n",
    "    print(\"%12s:\"%'Check b',sess.run(b)) #new a 를 반영하지 못한다.\n",
    "    #b가 가지고 있는건 a 자체의 정보가 아니라, a에 업데이트한 그 값일 뿐이다."
   ]
  },
  {
   "cell_type": "code",
   "execution_count": 70,
   "metadata": {},
   "outputs": [
    {
     "name": "stdout",
     "output_type": "stream",
     "text": [
      "Tensor(\"Add_1:0\", shape=(2,), dtype=float32)\n"
     ]
    }
   ],
   "source": [
    "a=tf.add(b,c)\n",
    "print(a)\n",
    "#텐서는 특정 operation node가 만든 output node라고 생각할 수 있을거 같다.\n",
    "#tf.Variable처럼 tensor라고 안나오고 tf.Variable~~~이런 식으로 생성되는게 또 뭐가 있을지 찾아보자."
   ]
  },
  {
   "cell_type": "markdown",
   "metadata": {},
   "source": [
    "## 6.Summary를 제대로 사용해보자\n",
    "### 기본\n",
    "1)무엇을 쓸건지\n",
    "\n",
    "2)쓴다고 한 것들 모아줄래\n",
    "\n",
    "3)써야하니까 리더기 만들고\n",
    "\n",
    "4)리더기로 쓰고\n",
    "\n",
    "5)못쓴거 다 뱉고 끝내자\n",
    "### merge_all에 들어가지 못한 녀석, 특히 test_accuracy를 텐서보드에 write하기\n",
    "보통 accuracy는 chaser=tf.summary.scalar를 이용해서 추적을 하지만, 데이터셋을 무엇을 넣느냐에  따라서 train_accuracy가 되기도 하고\n",
    "\n",
    "test_accuracy가 되기도 한다. 그렇다고 데이터셋은 다른거인데 계속 똑같은 추적자로 그걸 추적하면 정확도 그래프가 아주 엉망일 것이다.\n",
    "\n",
    "그래서 보통 train_accuracy는 일반적인 chaser 녀석으로 write하고, test_accuracy는 따로 sess.run을 통해 scalar값을 구한 뒤\n",
    "\n",
    "그걸 따로 써주는 방법을 쓴다.\n",
    "\n",
    "다만 인터넷에 이러한 경우를 처리하는 방식과 내가 처리하는 방식에 약간의 차이가 있어서, write와 summary부분을 정리할겸 무슨 차이인지 공부해보았다.\n",
    "\n",
    "### 선행지식: 파싱 \n",
    "(https://www.quora.com/What-exactly-does-parsing-mean-in-programming)\n",
    "\n",
    "Parsing in Java methods means that the method is taking input from a string and returning some other data type.\n",
    "\n",
    "The actual definition of \"parse\" in Wiktionary is \"To split a file or other input into pieces of data that can be easily stored or manipulated.\" So we are splitting a string into parts then recognizing the parts to convert it into something simpler than a string."
   ]
  },
  {
   "cell_type": "code",
   "execution_count": 23,
   "metadata": {},
   "outputs": [
    {
     "name": "stdout",
     "output_type": "stream",
     "text": [
      "[2018, 3, 26, 20, 21, 25, 0]\n",
      "Tensor(\"compare/a:0\", shape=(), dtype=string)\n",
      "Tensor(\"Merge/MergeSummary:0\", shape=(), dtype=string)\n",
      "value {\n",
      "  tag: \"compare/test\"\n",
      "  simple_value: 0.0\n",
      "}\n",
      "\n"
     ]
    }
   ],
   "source": [
    "from datetime import datetime\n",
    "import tensorflow as tf\n",
    "tf.reset_default_graph()\n",
    "a=tf.Variable(0)\n",
    "a_update=tf.assign(a,(a+1)%2)   \n",
    "global_step=tf.Variable(0)\n",
    "global_step_update=tf.assign(global_step,global_step+1)\n",
    "summ1=tf.summary.scalar('compare/a',a)\n",
    "summary_op=tf.summary.merge_all()\n",
    "print(list(datetime.now().timetuple()[:-2]))\n",
    "print(summ1)\n",
    "print(summary_op)   #dtype=string인 텐서\n",
    "with tf.Session() as sess:\n",
    "    sess.run(tf.global_variables_initializer());\n",
    "    summary_writer = tf.summary.FileWriter('./logs/'+str(list(datetime.now().timetuple()[:-2])), graph=sess.graph)\n",
    "    for i in range(1000):\n",
    "        sess.run([a_update,global_step_update]);\n",
    "        #i가 짝수일 때 a=1, 홀수일 때 a=0\n",
    "#         if i%400==0:\n",
    "#             summary_writer.add_summary(sess.run(summary_op), global_step=sess.run(global_step))\n",
    "        #원래 위처럼 a를 텐서보드에 쓰는 것이 일반적이지만 명확한 비교를 위해서 쓰지않는다.\n",
    "        if i%101==0:\n",
    "            test=sess.run(a)%2\n",
    "            temp=tf.summary.Summary.Value(tag=\"compare/test\",simple_value=test)\n",
    "            test_summary_op=tf.Summary(value=[tf.summary.Summary.Value(tag=\"compare/test\",simple_value=test)])\n",
    "            summary_writer.add_summary(test_summary_op,sess.run(global_step));\n",
    "        #200steps마다 test를 기록해준다, 이 경우는 대영이에게 소개시켜 준 방법인데, parsefromstring을 쓰지 않는다.\n",
    "        if i%251==0:\n",
    "            test2=sess.run(a)%2+1\n",
    "            test2_summary_op=tf.Summary();\n",
    "            test2_summary_op.ParseFromString(sess.run(summary_op));\n",
    "            test2_summary_op.value.add(tag=\"compare/test2\",simple_value=test2);\n",
    "            summary_writer.add_summary(test2_summary_op,sess.run(global_step));\n",
    "        #400steps마다 test를 기록해준다, 이 경우는 내가 원래 쓰던 방법으로,parsefromstring을 사용한다.\n",
    "    print(test_summary_op)        \n",
    "    summary_writer.flush();\n",
    "    \n"
   ]
  },
  {
   "cell_type": "markdown",
   "metadata": {},
   "source": [
    "![title](./20180325shot01.png)\n",
    "위 코드를 돌리면 위와 같은 그림을 얻을 수 있다. 즉 parsefromstring을 하는 이유는 기존의 suumary_op에 새로 value를 조금 붙여서 쓰려고하는 것이고, parsefromstring안한느건 그냥 새로운 value만 write하려고 하는 것이다. 그래서 그림에서 첫번째 그림과 세번째 그림이 write되는 빈도가 같은 것이다."
   ]
  },
  {
   "cell_type": "markdown",
   "metadata": {},
   "source": [
    "## 주피터노트북 팁들\n",
    "### interactive shell"
   ]
  },
  {
   "cell_type": "code",
   "execution_count": 145,
   "metadata": {},
   "outputs": [],
   "source": [
    "a=5\n",
    "b=3"
   ]
  },
  {
   "cell_type": "code",
   "execution_count": 146,
   "metadata": {},
   "outputs": [
    {
     "data": {
      "text/plain": [
       "8"
      ]
     },
     "execution_count": 146,
     "metadata": {},
     "output_type": "execute_result"
    },
    {
     "data": {
      "text/plain": [
       "125"
      ]
     },
     "execution_count": 146,
     "metadata": {},
     "output_type": "execute_result"
    },
    {
     "data": {
      "text/plain": [
       "15"
      ]
     },
     "execution_count": 146,
     "metadata": {},
     "output_type": "execute_result"
    }
   ],
   "source": [
    "from IPython.core.interactiveshell import InteractiveShell\n",
    "InteractiveShell.ast_node_interactivity = \"all\"\n",
    "a+b\n",
    "pow(a,b)\n",
    "a*b\n",
    "#매번 주피터노트북을 사용 할 때마다 위의 코드를 실행하고싶지 않으면, 저 세팅을 주피터노트북의 기본값으로 설정해주면 된다.\n",
    "# ~/.ipython/profile_default/ipython_config.py 를 아래처럼 바꿔주면 된다.\n",
    "# c = get_config() \n",
    "# # Run all nodes interactively \n",
    "# c.InteractiveShell.ast_node_interactivity = \"all\""
   ]
  },
  {
   "cell_type": "markdown",
   "metadata": {},
   "source": [
    "### 이미지 넣기"
   ]
  },
  {
   "cell_type": "code",
   "execution_count": 21,
   "metadata": {},
   "outputs": [
    {
     "data": {
      "image/png": "[encoded data removed]",
      "text/plain": [
       "<IPython.core.display.Image object>"
      ]
     },
     "execution_count": 21,
     "metadata": {},
     "output_type": "execute_result"
    }
   ],
   "source": [
    "# ![title](./20180325shot01.png) 을 쓰면 markdown에 이미지삽입 가능 주의사항은 이미지 위치경로에 \"\"가 없다는 것임\n",
    "#코드창을 통해서는 아래와 같은 방법으로 이미지를 불러올 수 있음\n",
    "from IPython.display import Image\n",
    "Image(\"./20180325shot01.png\")"
   ]
  },
  {
   "cell_type": "code",
   "execution_count": null,
   "metadata": {},
   "outputs": [],
   "source": []
  }
 ],
 "metadata": {
  "kernelspec": {
   "display_name": "Python 3",
   "language": "python",
   "name": "python3"
  },
  "language_info": {
   "codemirror_mode": {
    "name": "ipython",
    "version": 3
   },
   "file_extension": ".py",
   "mimetype": "text/x-python",
   "name": "python",
   "nbconvert_exporter": "python",
   "pygments_lexer": "ipython3",
   "version": "3.5.5"
  },
  "varInspector": {
   "cols": {
    "lenName": 16,
    "lenType": 16,
    "lenVar": "55"
   },
   "kernels_config": {
    "python": {
     "delete_cmd_postfix": "",
     "delete_cmd_prefix": "del ",
     "library": "var_list.py",
     "varRefreshCmd": "print(var_dic_list())"
    },
    "r": {
     "delete_cmd_postfix": ") ",
     "delete_cmd_prefix": "rm(",
     "library": "var_list.r",
     "varRefreshCmd": "cat(var_dic_list()) "
    }
   },
   "types_to_exclude": [
    "module",
    "function",
    "builtin_function_or_method",
    "instance",
    "_Feature"
   ],
   "window_display": false
  }
 },
 "nbformat": 4,
 "nbformat_minor": 2
}
