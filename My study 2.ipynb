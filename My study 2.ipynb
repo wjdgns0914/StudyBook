{
 "cells": [
  {
   "cell_type": "code",
   "execution_count": 1,
   "metadata": {},
   "outputs": [],
   "source": [
    "import numpy as np\n",
    "import tensorflow as tf\n",
    "import sys"
   ]
  },
  {
   "cell_type": "markdown",
   "metadata": {},
   "source": [
    "## 1.파이썬 코드 중간에 종료하는 방법 sys.exit() "
   ]
  },
  {
   "cell_type": "code",
   "execution_count": 2,
   "metadata": {},
   "outputs": [
    {
     "data": {
      "text/plain": [
       "'3.5.5 |Anaconda, Inc.| (default, Mar 12 2018, 17:44:09) [MSC v.1900 64 bit (AMD64)]'"
      ]
     },
     "execution_count": 2,
     "metadata": {},
     "output_type": "execute_result"
    }
   ],
   "source": [
    "sys.version"
   ]
  },
  {
   "cell_type": "code",
   "execution_count": 14,
   "metadata": {},
   "outputs": [
    {
     "ename": "SystemExit",
     "evalue": "",
     "output_type": "error",
     "traceback": [
      "An exception has occurred, use %tb to see the full traceback.\n",
      "\u001b[1;31mSystemExit\u001b[0m\n"
     ]
    },
    {
     "name": "stderr",
     "output_type": "stream",
     "text": [
      "d:\\anaconda\\envs\\tensorflow\\lib\\site-packages\\IPython\\core\\interactiveshell.py:2918: UserWarning: To exit: use 'exit', 'quit', or Ctrl-D.\n",
      "  warn(\"To exit: use 'exit', 'quit', or Ctrl-D.\", stacklevel=1)\n"
     ]
    }
   ],
   "source": [
    "sys.exit()"
   ]
  },
  {
   "cell_type": "markdown",
   "metadata": {},
   "source": [
    "## 2.argv다루는 방법"
   ]
  },
  {
   "cell_type": "code",
   "execution_count": 12,
   "metadata": {},
   "outputs": [
    {
     "name": "stdout",
     "output_type": "stream",
     "text": [
      "['d:\\\\anaconda\\\\envs\\\\tensorflow\\\\lib\\\\site-packages\\\\ipykernel_launcher.py', '-f', 'C:\\\\Users\\\\lizx\\\\AppData\\\\Roaming\\\\jupyter\\\\runtime\\\\kernel-1652767f-59f3-4485-9312-6b6cc02a17cb.json']\n"
     ]
    },
    {
     "ename": "SystemExit",
     "evalue": "",
     "output_type": "error",
     "traceback": [
      "An exception has occurred, use %tb to see the full traceback.\n",
      "\u001b[1;31mSystemExit\u001b[0m\n"
     ]
    },
    {
     "name": "stderr",
     "output_type": "stream",
     "text": [
      "d:\\anaconda\\envs\\tensorflow\\lib\\site-packages\\IPython\\core\\interactiveshell.py:2918: UserWarning: To exit: use 'exit', 'quit', or Ctrl-D.\n",
      "  warn(\"To exit: use 'exit', 'quit', or Ctrl-D.\", stacklevel=1)\n"
     ]
    }
   ],
   "source": [
    "def main(argv=None):  # pylint: disable=unused-argument\n",
    "    print(argv)\n",
    "#     if argv:\n",
    "#         for filename in argv:\n",
    "#             print(filename)\n",
    "\n",
    "if __name__ == '__main__':\n",
    "    tf.app.run()"
   ]
  },
  {
   "cell_type": "markdown",
   "metadata": {},
   "source": [
    "위의 빨간박스 안에 있는 에러메세지는 argv를 주피터에서 써서 발생하는 문제 같다. 파이참에서 같은 코드를 돌리면 오류 없이 잘된다. 명령창에서 python main.py '명령어'를 넣으면 명령어 부분이 argparse로 들어간다. tf.app.run()은 그걸 파싱해서 main함수에 argv로 실행한다. 이 파싱 된 argv를 사용하는 방법은<br>\n",
    "1)flags로 하나씩 뽑아 쓴다<br>\n",
    "2)위의 코드처럼 main함수 안에서 argv를 list에서 하나씩 뽑아서 쓴다.<br>\n",
    "\n",
    "주의할건 주의깊게 쓰면 이 두가지 방법을 섞어 쓸 수 있지만 웬만하면 이 두가지 방법은 섞어쓰지 않는 것이 좋다는 것이다."
   ]
  },
  {
   "cell_type": "markdown",
   "metadata": {},
   "source": [
    "## 3.작은 함수들 모음"
   ]
  },
  {
   "cell_type": "markdown",
   "metadata": {},
   "source": [
    "### 1)자료형을 확인하자 isinstance and type"
   ]
  },
  {
   "cell_type": "code",
   "execution_count": 37,
   "metadata": {},
   "outputs": [
    {
     "name": "stdout",
     "output_type": "stream",
     "text": [
      "Integer type\n",
      "     False\n",
      "     False\n",
      "Boolean type\n",
      "     True\n",
      "     False\n",
      "     True\n",
      "Floating type\n",
      "     True\n",
      "     True\n"
     ]
    }
   ],
   "source": [
    "print(\"Integer type\")\n",
    "print(\"    \",isinstance(3,(float,bool)))\n",
    "print(\"    \",type(3)==type(1.1))\n",
    "print(\"Boolean type\")\n",
    "print(\"    \",isinstance(True,(float,int)))\n",
    "print(\"    \",type(True)==type(1))\n",
    "print(\"    \",type(True)==type(False))\n",
    "print(\"Floating type\")\n",
    "print(\"    \",isinstance(2.2,(float,bool)))\n",
    "print(\"    \",type(2.2)==type(1.2))"
   ]
  },
  {
   "cell_type": "markdown",
   "metadata": {},
   "source": [
    "### 2)자료형을 확인하자2 instance와 type의 차이"
   ]
  },
  {
   "cell_type": "code",
   "execution_count": 38,
   "metadata": {},
   "outputs": [],
   "source": [
    "class Vehicle:\n",
    "    pass\n",
    "\n",
    "class Truck(Vehicle):\n",
    "    pass"
   ]
  },
  {
   "cell_type": "code",
   "execution_count": 46,
   "metadata": {},
   "outputs": [
    {
     "name": "stdout",
     "output_type": "stream",
     "text": [
      "(a)Vehicle and Vehicle:isinstance True\n",
      "(a)Vehicle and Vehicle:type       True\n",
      "(b)Truck and Vehicle  :isinstance True\n",
      "(b)Truck and Vehicle  :type       False\n",
      "(c)Boolean and Integer:isinstance True\n",
      "(c)Boolean and Integer:type       False\n"
     ]
    }
   ],
   "source": [
    "print(\"(a)Vehicle and Vehicle:isinstance\",isinstance(Vehicle(), Vehicle))  # returns True\n",
    "print(\"(a)Vehicle and Vehicle:type      \",type(Vehicle()) == Vehicle)      # returns True\n",
    "print(\"(b)Truck and Vehicle  :isinstance\",isinstance(Truck(), Vehicle))    # returns True\n",
    "print(\"(b)Truck and Vehicle  :type      \",type(Truck()) == Vehicle)     \n",
    "print(\"(c)Boolean and Integer:isinstance\",isinstance(True,(float,int)))\n",
    "print(\"(c)Boolean and Integer:type      \",type(True)==type(1))"
   ]
  },
  {
   "cell_type": "markdown",
   "metadata": {},
   "source": [
    "위의 결과를 보면 (a)경우는 isinstance와 type의 결과가 같지만 (b)(c)는 다르다. Truck을 Vehicle의 subclass라고 하는데, 만약 Boolean이 Integer의 subclass라고 한다면 isinstance는 main class에 종속되는 subclass도 True로 처리하는 유연함을 보이고, type은 무조건 해당 class/자료형만 True처리하는 엄격함을 보인다.<br>\n",
    "주의:어느 한개가 좋은 것이 아니라 유연함과 엄격함을 필요에 따라 쓰는 것이 중요하다."
   ]
  },
  {
   "cell_type": "code",
   "execution_count": null,
   "metadata": {},
   "outputs": [],
   "source": []
  }
 ],
 "metadata": {
  "kernelspec": {
   "display_name": "Python 3",
   "language": "python",
   "name": "python3"
  },
  "language_info": {
   "codemirror_mode": {
    "name": "ipython",
    "version": 3
   },
   "file_extension": ".py",
   "mimetype": "text/x-python",
   "name": "python",
   "nbconvert_exporter": "python",
   "pygments_lexer": "ipython3",
   "version": "3.5.5"
  }
 },
 "nbformat": 4,
 "nbformat_minor": 2
}
