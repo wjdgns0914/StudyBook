{
 "cells": [
  {
   "cell_type": "markdown",
   "metadata": {},
   "source": [
    "## 20180402 오늘의 디버깅 일지 "
   ]
  },
  {
   "cell_type": "markdown",
   "metadata": {},
   "source": [
    "### 1.Quantization 결과 \n",
    "[-1,1]을 특정 레벨 수로 quantization하는건 좋은데 그 결과가 어느 값으로 맵핑되는지 가끔 헷갈릴 때가 있다 아예 출력을 해놓으면 좋을거 같다"
   ]
  },
  {
   "cell_type": "code",
   "execution_count": 42,
   "metadata": {},
   "outputs": [
    {
     "name": "stdout",
     "output_type": "stream",
     "text": [
      "******Target level=2********* \n",
      " [-1.  1.]\n",
      "******Target level=3********* \n",
      " [-1.  0.  1.]\n",
      "******Target level=4********* \n",
      " [-1.         -0.33333333  0.33333333  1.        ]\n",
      "******Target level=5********* \n",
      " [-1.  -0.5  0.   0.5  1. ]\n",
      "******Target level=6********* \n",
      " [-1.  -0.6 -0.2  0.2  0.6  1. ]\n",
      "******Target level=7********* \n",
      " [-1.         -0.66666667 -0.33333333  0.          0.33333333  0.66666667\n",
      "  1.        ]\n",
      "******Target level=8********* \n",
      " [-1.         -0.71428571 -0.42857143 -0.14285714  0.14285714  0.42857143\n",
      "  0.71428571  1.        ]\n",
      "******Target level=9********* \n",
      " [-1.   -0.75 -0.5  -0.25  0.    0.25  0.5   0.75  1.  ]\n",
      "******Target level=10********* \n",
      " [-1.         -0.77777778 -0.55555556 -0.33333333 -0.11111111  0.11111111\n",
      "  0.33333333  0.55555556  0.77777778  1.        ]\n",
      "******Target level=11********* \n",
      " [-1.  -0.8 -0.6 -0.4 -0.2  0.   0.2  0.4  0.6  0.8  1. ]\n",
      "******Target level=12********* \n",
      " [-1.         -0.81818182 -0.63636364 -0.45454545 -0.27272727 -0.09090909\n",
      "  0.09090909  0.27272727  0.45454545  0.63636364  0.81818182  1.        ]\n",
      "******Target level=13********* \n",
      " [-1.         -0.83333333 -0.66666667 -0.5        -0.33333333 -0.16666667\n",
      "  0.          0.16666667  0.33333333  0.5         0.66666667  0.83333333\n",
      "  1.        ]\n",
      "******Target level=14********* \n",
      " [-1.         -0.84615385 -0.69230769 -0.53846154 -0.38461538 -0.23076923\n",
      " -0.07692308  0.07692308  0.23076923  0.38461538  0.53846154  0.69230769\n",
      "  0.84615385  1.        ]\n",
      "******Target level=15********* \n",
      " [-1.         -0.85714286 -0.71428571 -0.57142857 -0.42857143 -0.28571429\n",
      " -0.14285714  0.          0.14285714  0.28571429  0.42857143  0.57142857\n",
      "  0.71428571  0.85714286  1.        ]\n",
      "******Target level=16********* \n",
      " [-1.         -0.86666667 -0.73333333 -0.6        -0.46666667 -0.33333333\n",
      " -0.2        -0.06666667  0.06666667  0.2         0.33333333  0.46666667\n",
      "  0.6         0.73333333  0.86666667  1.        ]\n"
     ]
    }
   ],
   "source": [
    "import tensorflow as tf\n",
    "import numpy as np\n",
    "for target_level in range(2,17):\n",
    "    print(\"******Target level={0}*********\".format(target_level),'\\n',np.array([i/(target_level-1) for i in range(0,target_level)])*2-1)"
   ]
  },
  {
   "cell_type": "markdown",
   "metadata": {},
   "source": [
    "### 2. 특정 레벨이 없는 오류 디버깅\n",
    "![title](./20180402shot01.png)\n",
    "위처럼 히스토그램을 보면 특정 레벨이 나오지를 않았다, 8레벨의 경우에는 레벨2가 안나왔고\n",
    "14레벨의 경우에는 레벨4가 안나왔다. 어디서 뭐가 잘린걸까?\n",
    "사실 이것만 봐도 딱 느낌이왔어야했다. 보나마나 float-int 오가다가 조금씩 잘린거지\n",
    "\n",
    "그런데 생각보다 삽질을 많이해서 해결하는데 오래 걸렸다. 원인은 아래 코드부분이었다\n",
    "x는 이미 [-1,1] 구간을 양자화한 결과인데 그거를 다시 역으로 연산하여 level index를 찾으려고 하니까 약간의 손실이 있었던거 같다.\n",
    "아래처럼 일부 수에 아주 약간\n",
    "<img src=\"./20180402shot02.png\" width=\"400\" height=\"400\" />\n"
   ]
  },
  {
   "cell_type": "code",
   "execution_count": 61,
   "metadata": {},
   "outputs": [
    {
     "name": "stdout",
     "output_type": "stream",
     "text": [
      "[0.1, 0.2, 0.3, 0.4, 0.5, 0.6, 0.7, 0.8, 0.9, 1.0, 1.1, 1.2, 1.3, 1.4, 1.5, 1.6, 1.7, 1.8, 1.9, 2.0]\n",
      "[0.0, 0.0, 0.0, 0.0, 0.0, 0.0, 0.0, 0.0, 0.0, 1.0, 1.0, 1.0, 1.0, 1.0, 1.0, 1.0, 1.0, 1.0, 1.0, 2.0]\n",
      "[0.0, 0.0, 0.0, 0.0, 0.0, 0.0, 0.0, 0.0, 0.0, 1.0, 1.0, 1.0, 1.0, 1.0, 1.0, 1.0, 1.0, 1.0, 1.0, 2.0]\n"
     ]
    }
   ],
   "source": [
    "# level_index = (target_level-1)*(x+1)/2\n",
    "# level_index = tf.cast(level_index,dtype=tf.int32)\n",
    "a=tf.cast([0.1*i for i in range(1,21)],dtype=tf.int32)\n",
    "b=tf.to_int32([0.1*i for i in range(1,21)])\n",
    "c=np.array([0.1*i for i in range(1,21)])\n",
    "with tf.Session() as sess:\n",
    "    print([float(\"%0.1f\" % i) for i in c])\n",
    "    print([float(\"%0.1f\"%i) for i in sess.run(a)])\n",
    "    print([float(\"%0.1f\"%i) for i in sess.run(b)])\n",
    "    #아래처럼 0.9999도 결국 0이 되기 때문의 조금의 손실도 치명적이다.\n",
    "    #앞으로 코딩 할 때는 저런 손실은 어느정도 있다고 보고 저런게 치명적인 부분이면 바로 cast로 넘기지말고 round 같은 함수를 쓰자."
   ]
  },
  {
   "cell_type": "code",
   "execution_count": null,
   "metadata": {},
   "outputs": [],
   "source": []
  }
 ],
 "metadata": {
  "kernelspec": {
   "display_name": "Python 3",
   "language": "python",
   "name": "python3"
  },
  "language_info": {
   "codemirror_mode": {
    "name": "ipython",
    "version": 3
   },
   "file_extension": ".py",
   "mimetype": "text/x-python",
   "name": "python",
   "nbconvert_exporter": "python",
   "pygments_lexer": "ipython3",
   "version": "3.5.5"
  }
 },
 "nbformat": 4,
 "nbformat_minor": 2
}
