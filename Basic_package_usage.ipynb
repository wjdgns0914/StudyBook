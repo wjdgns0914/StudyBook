{
 "cells": [
  {
   "cell_type": "markdown",
   "metadata": {},
   "source": [
    "## 1.time: 기본 패키지\n",
    "time.time()하면 나오는 저 float이 뭔지 알면 이 패키지는 쉽다. 저건 Unix time이라는건데(정확히 말하면 unix time부터 경과 된 시간을 초로 표시한 것)\n",
    "\n",
    "What is epoch time?<br>\n",
    "The Unix epoch (or Unix time or POSIX time or Unix timestamp) is the number of seconds that have elapsed since January 1, 1970 (midnight UTC/GMT), not counting leap seconds (in ISO 8601: 1970-01-01T00:00:00Z). Literally speaking the epoch is Unix time 0 (midnight 1/1/1970), but 'epoch' is often used as a synonym for 'Unix time'. Many Unix systems store epoch dates as a signed 32-bit integer, which might cause problems on January 19, 2038 (known as the Year 2038 problem or Y2038).\n",
    "<br>하하 재밌네$e^{i\\pi} + 1 = 0$$$e^{i\\pi} + 1 = 0$$"
   ]
  },
  {
   "cell_type": "code",
   "execution_count": 9,
   "metadata": {},
   "outputs": [
    {
     "name": "stdout",
     "output_type": "stream",
     "text": [
      "time.time(): 1523198948.768178 \n",
      "time.struct_time(tm_year=2018, tm_mon=4, tm_mday=8, tm_hour=22, tm_min=49, tm_sec=8, tm_wday=6, tm_yday=98, tm_isdst=0)\n",
      "time.struct_time(tm_year=2018, tm_mon=4, tm_mday=8, tm_hour=22, tm_min=49, tm_sec=8, tm_wday=6, tm_yday=98, tm_isdst=0)\n",
      "time.struct_time(tm_year=1970, tm_mon=1, tm_mday=1, tm_hour=9, tm_min=14, tm_sec=4, tm_wday=3, tm_yday=1, tm_isdst=0)\n"
     ]
    }
   ],
   "source": [
    "import time\n",
    "print (\"time.time(): %f \" %  time.time())\n",
    "print(time.localtime(time.time()))\n",
    "print(time.localtime())\n",
    "print(time.localtime(4444))  \n",
    "#1)이 함수의 기본값이 time.time()이란걸 알 수 있다.\n",
    "#2)이 함수는 초를 Unix time으로 바꿔준다는걸 알 수 있다."
   ]
  },
  {
   "cell_type": "code",
   "execution_count": 18,
   "metadata": {},
   "outputs": [
    {
     "name": "stdout",
     "output_type": "stream",
     "text": [
      "2018-04-08 22:58:25\n",
      "Apr 08 2018 22:58:25\n",
      "Sun Apr  8 22:58:25 2018\n"
     ]
    }
   ],
   "source": [
    "print(time.strftime('%Y-%m-%d %X', time.localtime()))\n",
    "print (time.strftime(\"%b %d %Y %H:%M:%S\", time.localtime()))\n",
    "print(time.asctime(time.localtime(time.time())))  #정해진 형식으로 출력해지는 것인듯\n",
    "#localtime을 위처럼 쓸 수 있다."
   ]
  },
  {
   "cell_type": "code",
   "execution_count": 19,
   "metadata": {},
   "outputs": [
    {
     "name": "stdout",
     "output_type": "stream",
     "text": [
      "1234861418.0\n"
     ]
    }
   ],
   "source": [
    "#이제 local time말고 내가 만든 시간을 써보자\n",
    "t = (2009, 2, 17, 17, 3, 38, 1, 48, 0) #9개의 arguments가 들어가야한다.\n",
    "t = time.mktime(t)\n",
    "print(t)\n",
    "#내가 입력한 시간과 unix time간의 차를 알 수 있다."
   ]
  },
  {
   "cell_type": "code",
   "execution_count": 21,
   "metadata": {},
   "outputs": [
    {
     "name": "stdout",
     "output_type": "stream",
     "text": [
      "Feb 17 2009 09:03:38\n",
      "Feb 17 2009 17:03:38\n"
     ]
    }
   ],
   "source": [
    "print (time.strftime(\"%b %d %Y %H:%M:%S\", time.gmtime(t)))  #잘은 모르겠는데 특정 지역의 시간 아닐까? 어느 나라에서 실행하든 같은 결과를 내는?\n",
    "#근데 뭐 그렇다하더라도 잘안쓰니 대충 넘어감\n",
    "print (time.strftime(\"%b %d %Y %H:%M:%S\", time.localtime(t)))"
   ]
  },
  {
   "cell_type": "code",
   "execution_count": null,
   "metadata": {},
   "outputs": [],
   "source": []
  }
 ],
 "metadata": {
  "kernelspec": {
   "display_name": "Python [conda env:tensorflow]",
   "language": "python",
   "name": "conda-env-tensorflow-py"
  },
  "language_info": {
   "codemirror_mode": {
    "name": "ipython",
    "version": 3
   },
   "file_extension": ".py",
   "mimetype": "text/x-python",
   "name": "python",
   "nbconvert_exporter": "python",
   "pygments_lexer": "ipython3",
   "version": "3.6.4"
  },
  "varInspector": {
   "cols": {
    "lenName": 16,
    "lenType": 16,
    "lenVar": "55"
   },
   "kernels_config": {
    "python": {
     "delete_cmd_postfix": "",
     "delete_cmd_prefix": "del ",
     "library": "var_list.py",
     "varRefreshCmd": "print(var_dic_list())"
    },
    "r": {
     "delete_cmd_postfix": ") ",
     "delete_cmd_prefix": "rm(",
     "library": "var_list.r",
     "varRefreshCmd": "cat(var_dic_list()) "
    }
   },
   "types_to_exclude": [
    "module",
    "function",
    "builtin_function_or_method",
    "instance",
    "_Feature"
   ],
   "window_display": false
  }
 },
 "nbformat": 4,
 "nbformat_minor": 2
}
