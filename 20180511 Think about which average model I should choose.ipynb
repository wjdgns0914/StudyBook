{
 "cells": [
  {
   "cell_type": "markdown",
   "metadata": {},
   "source": [
    "#### write_based_data\n",
    "True: Decide voltage based on average of real data<br>\n",
    "False: Decide voltage based on average fitting model ->실제로는 가지도 못하는 resistance를 다루게 될 수 있음\n",
    "\n",
    "원래 이론적으로는 target resistance도 결정한다, 그런데 target resistance를 결정 할 때 어쩔 수 없이 시그모이드함수가 들어간다.<br>\n",
    "즉 write_based_data=True여도 실제로 generate 되는 resistance는 시그모이드와 함께 하기 때문에 실제로 generate 되는 resistance는 같다. <br>\n",
    "음..쉽게 말하면 write_based_data가 True이든 False이든 결과에는 영향이 없다! 이 코드에서는 실질적인 변화를 위한 것이라기보다, data average와 fitting model average를 비교하기 위해 놓았다.<br>\n",
    "(True로 놓으면 target resistance를 전자에서 가져오고,False로 놓으면 후자에서 가져온다).<br>\n",
    "\n",
    "voltage를 어디서 결정할지도 사실 여기서 결정해야하지만 voltage는 미리 결정해놓았다고 가정한다.<br>\n",
    "voltage를 fitting model에서 만들면 위에 언급한 문제가 발생한다. 즉 fitting모델은 특정구역에서 일반적 오차를 가져오는데 그 오차 때문에 실제로는 쓰기 힘든 resistance를 쓸 수 있다고 생각 하게 될 수도 있다. <br>\n",
    "그래서 voltage를 고를 모델은 조금 더 신중하는게 좋다(오늘자 노트 참고).\n",
    "\n",
    "#### read_based_data\n",
    "True: Decide reference resistance based on average of real data<br>\n",
    "False: Decide reference resistance based on average fitting model"
   ]
  },
  {
   "cell_type": "code",
   "execution_count": 2,
   "metadata": {},
   "outputs": [],
   "source": [
    "import numpy as np\n",
    "from openpyxl import load_workbook\n",
    "import matplotlib.pyplot as plt\n",
    "import pandas as pd\n",
    "def make_index(x,ref):\n",
    "    index = float(x>=ref[0])\n",
    "    for ref in ref[1:]:\n",
    "        index += float(x>=ref)\n",
    "    return index\n",
    "def load_info(num_level,choice=0):\n",
    "    wb = load_workbook(filename='level_info.xlsx')\n",
    "    sheetname = str(num_level) + 'Levels'\n",
    "    if (str(wb.sheetnames).find(sheetname) > -1) and (wb[sheetname]['A' + str(3 * choice + 1)] != None):\n",
    "        print(\"I find the information of %dLevels\"%num_level)\n",
    "        ws = wb[sheetname]\n",
    "        volt = np.array([cell.value for cell in tuple(ws.rows)[3 * choice]]).astype('float32')\n",
    "        r = np.array([cell.value for cell in tuple(ws.rows)[3 * choice+1]]).astype('float32')\n",
    "        if ws['A' + str(3 * choice + 2)] != None:\n",
    "            r_std = np.array([cell.value for cell in tuple(ws.rows)[3 * choice + 2]]).astype('float32')\n",
    "        if ws['A' + str(3 * choice + 3)] != None:\n",
    "            r_ref = np.array([cell.value for cell in tuple(ws.rows)[3 * choice + 3][1:]]).astype('float32')   #잘 read 되는지 확인해야함\n",
    "            r_ref = (r[1:] + r[0:-1]) / 2\n",
    "    else:\n",
    "        print(\"There is no information  of %dLevels\"%num_level)\n",
    "        volt = np.array([simple_r for simple_r in range(1, num_level + 1)]).astype('float32')\n",
    "        r = np.array([simple_r for simple_r in range(1, num_level + 1)]).astype('float32')\n",
    "        r_std = np.ones([num_level], dtype='float32')\n",
    "        r_ref = (r[1:] + r[0:-1]) / 2\n",
    "    return volt,r,r_std,r_ref"
   ]
  },
  {
   "cell_type": "code",
   "execution_count": 90,
   "metadata": {},
   "outputs": [],
   "source": [
    "def scheme_check(volt,r,r_std,r_ref,num_level=14,num_write=1000,fitting_model_average_choice=False,\n",
    "                 write_based_data=False,read_based_data=False,cycle_variation=False,device_variation=False,onecell=False):\n",
    "    log=np.zeros([num_level,num_write,5])\n",
    "    log_level=np.zeros([num_level,num_level])\n",
    "    a=3.156e+06\n",
    "    b=4.463\n",
    "    c=2.713\n",
    "    d=2.509e+04\n",
    "    if fitting_model_average_choice==False:\n",
    "        mean_a,mean_b,mean_c,mean_d=a,b,c,d\n",
    "    else:\n",
    "        mean_a,mean_b,mean_c,mean_d=a*0.9996,b*1.0647,c*1.0004,d*1.0368\n",
    "    if write_based_data == False: #\n",
    "        r = np.array([mean_a / (1 + np.exp(-mean_b * (x - mean_c))) + mean_d for x in volt])\n",
    "        \n",
    "    if read_based_data == False:\n",
    "        temp = np.array([mean_a / (1 + np.exp(-mean_b * (x - mean_c))) + mean_d for x in volt])\n",
    "        r_ref = (temp[1:] + temp[0:-1]) / 2\n",
    "#         r_ref = [ 508998.68485452,734426.74492238,1024890.55948719,1275528.5558163,1457834.55645558,1644133.88666727,1829306.37527018,2089524.18914522,2396897.257, 2640884.09748843,2820836.3687569,2979827.79184652,3099313.97217619]\n",
    "#         r_ref=[ 553682.99450246,  777899.98328473, 1059132.06399215, 1298052.23847886,1470012.01854126, 1645204.55824665, 1819367.46320471, 2065746.25205046,2360407.67442528, 2599835.48980322, 2781688.95203013, 2949620.22106922,3081267.30830828]\n",
    "\n",
    "    if cycle_variation == True: #True면 위에서 결정한거 그대로 쓰면 된다.\n",
    "        meanofstd=0.6*r_std\n",
    "        stdofstd=0.5*meanofstd\n",
    "    else:\n",
    "        meanofstd=np.zeros(len(r_std))\n",
    "        stdofstd=np.zeros(len(r_std))\n",
    "    \n",
    "    if device_variation == True:\n",
    "        std_a=abs(a)*0.0698\n",
    "        std_b=abs(b)*0.1824\n",
    "        std_c=abs(c)*0.0354\n",
    "        std_d=abs(d)*0.7708\n",
    "    else:\n",
    "        std_a,std_b,std_c,std_d=0,0,0,0\n",
    "        stdofstd=np.zeros(len(r_std))\n",
    "\n",
    "    print(\"fitting_model_average_choice: \\n[mean_a,mean_b,mean_c,mean_d]=\",[mean_a,mean_b,mean_c,mean_d])\n",
    "    print(\"write_based_data:\\nr=\",r)\n",
    "    print(\"read_based_data:\\nr_ref=\",r_ref)\n",
    "    print(\"cycle_variation:\\nmeanofstd=\",meanofstd,'\\nstdofstd=',stdofstd)\n",
    "    print(\"device_variation:\\nstdofmean=\",[std_a,std_b,std_c,std_d],\"\\nstdofstd=\",stdofstd)\n",
    "    cell_index=1\n",
    "    cell_dict={}\n",
    "    x_volt=np.linspace(1.7,4,231)\n",
    "    cell_dict['Average Cell']=mean_a/(1+np.exp(-mean_b*(x_volt-mean_c))) + mean_d\n",
    "    if onecell==True:\n",
    "        a_var = np.random.normal(loc=mean_a, scale=std_a)\n",
    "        b_var = np.random.normal(loc=mean_b, scale=std_b)\n",
    "        c_var = np.random.normal(loc=mean_c, scale=std_c)\n",
    "        d_var = np.random.normal(loc=mean_d, scale=std_d)\n",
    "        cell_dict['Cell'+str(cell_index)]=a_var/(1+np.exp(-b_var*(x_volt-c_var))) + d_var\n",
    "    for i in range(num_level):\n",
    "        volt_write = volt[i]\n",
    "        for j in range(num_write):\n",
    "            if onecell==False:\n",
    "                a_var = np.random.normal(loc=mean_a, scale=std_a)\n",
    "                b_var = np.random.normal(loc=mean_b, scale=std_b)\n",
    "                c_var = np.random.normal(loc=mean_c, scale=std_c)\n",
    "                d_var = np.random.normal(loc=mean_d, scale=std_d)\n",
    "                cell_dict['Cell'+str(cell_index).rjust(3,'0')]=a_var/(1+np.exp(-b_var*(x_volt-c_var))) + d_var\n",
    "                cell_index+=1\n",
    "            mean_val = a_var/(1+np.exp(-b_var*(volt_write-c_var))) + d_var\n",
    "            std_val = np.random.normal(loc=meanofstd[i],scale=stdofstd[i])\n",
    "            std_val = std_val *(std_val>0) + meanofstd[i]* (std_val<=0)\n",
    "            r_write=np.random.normal(loc=mean_val,scale=std_val)\n",
    "            level_read=make_index(r_write,r_ref)\n",
    "            log[i,j,0]=i\n",
    "            log[i,j,1]=r[i]\n",
    "            log[i,j,2]=r_write\n",
    "            log[i,j,3]=level_read\n",
    "            log[i,j,4]=(i==level_read)\n",
    "            log_level[i,int(level_read)]+=1\n",
    "        print(mean_val)\n",
    "        print([log[i, j, 0:3],mean_val,log[i,j,3],np.sum(log[i,:,4])])\n",
    "        print(log_level[i,:])\n",
    "    col_index=[1.7+0.01*i for i in range(231)]\n",
    "    cell_function=pd.DataFrame(cell_dict, index=col_index)\n",
    "    cell_function.plot()\n",
    "    plt.show()\n",
    "    print('finish')"
   ]
  },
  {
   "cell_type": "code",
   "execution_count": 21,
   "metadata": {},
   "outputs": [
    {
     "name": "stdout",
     "output_type": "stream",
     "text": [
      "I find the information of 14Levels\n"
     ]
    }
   ],
   "source": [
    "volt,r,r_std,r_ref=load_info(num_level=36,choice=0)"
   ]
  },
  {
   "cell_type": "code",
   "execution_count": 22,
   "metadata": {
    "scrolled": true
   },
   "outputs": [
    {
     "name": "stdout",
     "output_type": "stream",
     "text": [
      "fitting_model_average_choice: \n",
      "[mean_a,mean_b,mean_c,mean_d]= [3156000.0, 4.463, 2.713, 25090.0]\n",
      "write_based_data:\n",
      "r= [ 456423.69687235  650942.29213256  904857.6744369  1213406.45354739\n",
      " 1382698.02341033 1557326.01367219 1733083.1028211  1905651.82358832\n",
      " 2225840.68051259 2494974.66833797 2704696.31126847 2858681.59279179\n",
      " 3040558.84934666 3121975.7672699 ]\n",
      "read_based_data:\n",
      "r_ref= [553682.99450246, 777899.98328473, 1059132.06399215, 1298052.23847886, 1470012.01854126, 1645204.55824665, 1819367.46320471, 2065746.25205046, 2360407.67442528, 2599835.48980322, 2781688.95203013, 2949620.22106922, 3081267.30830828]\n",
      "cycle_variation:\n",
      "meanofstd= [0. 0. 0. 0. 0. 0. 0. 0. 0. 0. 0. 0. 0. 0.] \n",
      "stdofstd= [0. 0. 0. 0. 0. 0. 0. 0. 0. 0. 0. 0. 0. 0.]\n",
      "device_variation:\n",
      "stdofmean= [0, 0, 0, 0] \n",
      "stdofstd= [0. 0. 0. 0. 0. 0. 0. 0. 0. 0. 0. 0. 0. 0.]\n",
      "[array([     0.        , 456423.69687235, 456423.69687235,      0.        ]), 1000.0]\n",
      "[array([1.00000000e+00, 6.50942292e+05, 6.50942292e+05, 1.00000000e+00]), 1000.0]\n",
      "[array([2.00000000e+00, 9.04857674e+05, 9.04857674e+05, 2.00000000e+00]), 1000.0]\n",
      "[array([3.00000000e+00, 1.21340645e+06, 1.21340645e+06, 3.00000000e+00]), 1000.0]\n",
      "[array([4.00000000e+00, 1.38269802e+06, 1.38269802e+06, 4.00000000e+00]), 1000.0]\n",
      "[array([5.00000000e+00, 1.55732601e+06, 1.55732601e+06, 5.00000000e+00]), 1000.0]\n",
      "[array([6.0000000e+00, 1.7330831e+06, 1.7330831e+06, 6.0000000e+00]), 1000.0]\n",
      "[array([7.00000000e+00, 1.90565182e+06, 1.90565182e+06, 7.00000000e+00]), 1000.0]\n",
      "[array([8.00000000e+00, 2.22584068e+06, 2.22584068e+06, 8.00000000e+00]), 1000.0]\n",
      "[array([9.00000000e+00, 2.49497467e+06, 2.49497467e+06, 9.00000000e+00]), 1000.0]\n",
      "[array([1.00000000e+01, 2.70469631e+06, 2.70469631e+06, 1.00000000e+01]), 1000.0]\n",
      "[array([1.10000000e+01, 2.85868159e+06, 2.85868159e+06, 1.10000000e+01]), 1000.0]\n",
      "[array([1.20000000e+01, 3.04055885e+06, 3.04055885e+06, 1.20000000e+01]), 1000.0]\n",
      "[array([1.30000000e+01, 3.12197577e+06, 3.12197577e+06, 1.30000000e+01]), 1000.0]\n",
      "[553682.99450246, 777899.98328473, 1059132.06399215, 1298052.23847886, 1470012.01854126, 1645204.55824665, 1819367.46320471, 2065746.25205046, 2360407.67442528, 2599835.48980322, 2781688.95203013, 2949620.22106922, 3081267.30830828]\n",
      "finish\n"
     ]
    }
   ],
   "source": [
    "scheme_check(volt,r,r_std,r_ref,14,1000,fitting_model_average_choice=False,\n",
    "             write_based_data=False,read_based_data=False,cycle_variation=False,device_variation=False)"
   ]
  },
  {
   "cell_type": "code",
   "execution_count": 23,
   "metadata": {
    "scrolled": true
   },
   "outputs": [
    {
     "name": "stdout",
     "output_type": "stream",
     "text": [
      "fitting_model_average_choice: \n",
      "[mean_a,mean_b,mean_c,mean_d]= [3156000.0, 4.463, 2.713, 25090.0]\n",
      "write_based_data:\n",
      "r= [ 456423.69687235  650942.29213256  904857.6744369  1213406.45354739\n",
      " 1382698.02341033 1557326.01367219 1733083.1028211  1905651.82358832\n",
      " 2225840.68051259 2494974.66833797 2704696.31126847 2858681.59279179\n",
      " 3040558.84934666 3121975.7672699 ]\n",
      "read_based_data:\n",
      "r_ref= [553682.99450246, 777899.98328473, 1059132.06399215, 1298052.23847886, 1470012.01854126, 1645204.55824665, 1819367.46320471, 2065746.25205046, 2360407.67442528, 2599835.48980322, 2781688.95203013, 2949620.22106922, 3081267.30830828]\n",
      "cycle_variation:\n",
      "meanofstd= [0. 0. 0. 0. 0. 0. 0. 0. 0. 0. 0. 0. 0. 0.] \n",
      "stdofstd= [0. 0. 0. 0. 0. 0. 0. 0. 0. 0. 0. 0. 0. 0.]\n",
      "device_variation:\n",
      "stdofmean= [0, 0, 0, 0] \n",
      "stdofstd= [0. 0. 0. 0. 0. 0. 0. 0. 0. 0. 0. 0. 0. 0.]\n",
      "[array([     0.        , 456423.69687235, 456423.69687235,      0.        ]), 1000.0]\n",
      "[array([1.00000000e+00, 6.50942292e+05, 6.50942292e+05, 1.00000000e+00]), 1000.0]\n",
      "[array([2.00000000e+00, 9.04857674e+05, 9.04857674e+05, 2.00000000e+00]), 1000.0]\n",
      "[array([3.00000000e+00, 1.21340645e+06, 1.21340645e+06, 3.00000000e+00]), 1000.0]\n",
      "[array([4.00000000e+00, 1.38269802e+06, 1.38269802e+06, 4.00000000e+00]), 1000.0]\n",
      "[array([5.00000000e+00, 1.55732601e+06, 1.55732601e+06, 5.00000000e+00]), 1000.0]\n",
      "[array([6.0000000e+00, 1.7330831e+06, 1.7330831e+06, 6.0000000e+00]), 1000.0]\n",
      "[array([7.00000000e+00, 1.90565182e+06, 1.90565182e+06, 7.00000000e+00]), 1000.0]\n",
      "[array([8.00000000e+00, 2.22584068e+06, 2.22584068e+06, 8.00000000e+00]), 1000.0]\n",
      "[array([9.00000000e+00, 2.49497467e+06, 2.49497467e+06, 9.00000000e+00]), 1000.0]\n",
      "[array([1.00000000e+01, 2.70469631e+06, 2.70469631e+06, 1.00000000e+01]), 1000.0]\n",
      "[array([1.10000000e+01, 2.85868159e+06, 2.85868159e+06, 1.10000000e+01]), 1000.0]\n",
      "[array([1.20000000e+01, 3.04055885e+06, 3.04055885e+06, 1.20000000e+01]), 1000.0]\n",
      "[array([1.30000000e+01, 3.12197577e+06, 3.12197577e+06, 1.30000000e+01]), 1000.0]\n",
      "[553682.99450246, 777899.98328473, 1059132.06399215, 1298052.23847886, 1470012.01854126, 1645204.55824665, 1819367.46320471, 2065746.25205046, 2360407.67442528, 2599835.48980322, 2781688.95203013, 2949620.22106922, 3081267.30830828]\n",
      "finish\n"
     ]
    }
   ],
   "source": [
    "scheme_check(volt,r,r_std,r_ref,14,1000,fitting_model_average_choice=False,\n",
    "             write_based_data=False,read_based_data=False,cycle_variation=False,device_variation=False)"
   ]
  },
  {
   "cell_type": "markdown",
   "metadata": {},
   "source": [
    "위 두개의 예는 fitting_model_average_choice만 다릅니다, 이를 통해 mean of a,b,c,d를 실제 데이터 mean에 기반한(false)와 실제 데이터 fitting model의 평균에 기반한(True)의 차이가 그렇게 크지 않다는 것을 알 수 있습니다.(즉 서로 섞어써도 레벨을 인식하는데 무리가 없다) \n",
    "레벨이 올라가면 저 조금의 차이도 인식에 차이를 가져오긴 하겠지만, variation을 고려한다면 그렇게 significant한 영향을 줄 것 같지는 않습니다.\n",
    "\n",
    "주의:write_based_data=False일 때만(최소한 read_based_data=False여야) fitting_model_average_choice의 true/false가 의미가 있습니다. fitting model의 평균을 뭘로 할 것이냐를 결정하는데, 만약 fitting model을 안쓰면 의미가 없겠죠?"
   ]
  },
  {
   "cell_type": "code",
   "execution_count": 40,
   "metadata": {
    "scrolled": true
   },
   "outputs": [
    {
     "name": "stdout",
     "output_type": "stream",
     "text": [
      "fitting_model_average_choice: \n",
      "[mean_a,mean_b,mean_c,mean_d]= [3154737.6, 4.7517561, 2.7140852, 26013.311999999998]\n",
      "write_based_data:\n",
      "r= [ 408093.4   647025.06  968410.6  1275442.1  1394173.8  1586317.6\n",
      " 1773990.4  1923664.4  2242287.5  2431918.8  2699296.   2782773.5\n",
      " 2998088.2  3142365.2 ]\n",
      "read_based_data:\n",
      "r_ref= [ 508998.68485452  734426.74492238 1024890.55948719 1275528.5558163\n",
      " 1457834.55645558 1644133.88666727 1829306.37527018 2089524.18914522\n",
      " 2396897.25713225 2640884.09748843 2820836.3687569  2979827.79184652\n",
      " 3099313.97217619]\n",
      "cycle_variation:\n",
      "meanofstd= [0. 0. 0. 0. 0. 0. 0. 0. 0. 0. 0. 0. 0. 0.] \n",
      "stdofstd= [0. 0. 0. 0. 0. 0. 0. 0. 0. 0. 0. 0. 0. 0.]\n",
      "device_variation:\n",
      "stdofmean= [0, 0, 0, 0] \n",
      "stdofstd= [0. 0. 0. 0. 0. 0. 0. 0. 0. 0. 0. 0. 0. 0.]\n",
      "[array([     0.        , 408093.40625   , 412921.21487398,      0.        ]), 1000.0]\n",
      "[array([1.00000000e+00, 6.47025062e+05, 6.05076155e+05, 1.00000000e+00]), 1000.0]\n",
      "[array([2.00000000e+00, 9.68410625e+05, 8.63777335e+05, 2.00000000e+00]), 1000.0]\n",
      "[array([3.00000000e+00, 1.27544212e+06, 1.18600378e+06, 3.00000000e+00]), 1000.0]\n",
      "[array([4.00000000e+00, 1.39417375e+06, 1.36505333e+06, 4.00000000e+00]), 1000.0]\n",
      "[array([5.00000000e+00, 1.58631762e+06, 1.55061579e+06, 5.00000000e+00]), 1000.0]\n",
      "[array([6.00000000e+00, 1.77399038e+06, 1.73765199e+06, 6.00000000e+00]), 1000.0]\n",
      "[array([7.00000000e+00, 1.92366438e+06, 1.92096076e+06, 7.00000000e+00]), 1000.0]\n",
      "[array([8.00000000e+00, 2.24228750e+06, 2.25808762e+06, 8.00000000e+00]), 1000.0]\n",
      "[array([9.00000000e+00, 2.43191875e+06, 2.53570690e+06, 9.00000000e+00]), 1000.0]\n",
      "[array([1.0000000e+01, 2.6992960e+06, 2.7460613e+06, 1.0000000e+01]), 1000.0]\n",
      "[array([1.10000000e+01, 2.78277350e+06, 2.89561144e+06, 1.10000000e+01]), 1000.0]\n",
      "[array([1.20000000e+01, 2.99808825e+06, 3.06404414e+06, 1.20000000e+01]), 1000.0]\n",
      "[array([1.30000000e+01, 3.14236525e+06, 3.13458380e+06, 1.30000000e+01]), 1000.0]\n",
      "finish\n"
     ]
    }
   ],
   "source": [
    "scheme_check(volt,r,r_std,r_ref,14,1000,fitting_model_average_choice=False,\n",
    "             write_based_data=True,read_based_data=False,cycle_variation=False,device_variation=False)"
   ]
  },
  {
   "cell_type": "code",
   "execution_count": 41,
   "metadata": {
    "scrolled": true
   },
   "outputs": [
    {
     "name": "stdout",
     "output_type": "stream",
     "text": [
      "fitting_model_average_choice: \n",
      "[mean_a,mean_b,mean_c,mean_d]= [3156000.0, 4.463, 2.713, 25090.0]\n",
      "write_based_data:\n",
      "r= [ 456423.69687235  650942.29213256  904857.6744369  1213406.45354739\n",
      " 1382698.02341033 1557326.01367219 1733083.1028211  1905651.82358832\n",
      " 2225840.68051259 2494974.66833797 2704696.31126847 2858681.59279179\n",
      " 3040558.84934666 3121975.7672699 ]\n",
      "read_based_data:\n",
      "r_ref= [ 527559.25  807717.9  1121926.4  1334808.   1490245.8  1680154.\n",
      " 1848827.4  2082976.   2337103.   2565607.5  2741034.8  2890431.\n",
      " 3070226.8 ]\n",
      "cycle_variation:\n",
      "meanofstd= [0. 0. 0. 0. 0. 0. 0. 0. 0. 0. 0. 0. 0. 0.] \n",
      "stdofstd= [0. 0. 0. 0. 0. 0. 0. 0. 0. 0. 0. 0. 0. 0.]\n",
      "device_variation:\n",
      "stdofmean= [0, 0, 0, 0] \n",
      "stdofstd= [0. 0. 0. 0. 0. 0. 0. 0. 0. 0. 0. 0. 0. 0.]\n",
      "[array([     0.        , 456423.69687235, 456423.69687235,      0.        ]), 1000.0]\n",
      "[array([1.00000000e+00, 6.50942292e+05, 6.50942292e+05, 1.00000000e+00]), 1000.0]\n",
      "[array([2.00000000e+00, 9.04857674e+05, 9.04857674e+05, 2.00000000e+00]), 1000.0]\n",
      "[array([3.00000000e+00, 1.21340645e+06, 1.21340645e+06, 3.00000000e+00]), 1000.0]\n",
      "[array([4.00000000e+00, 1.38269802e+06, 1.38269802e+06, 4.00000000e+00]), 1000.0]\n",
      "[array([5.00000000e+00, 1.55732601e+06, 1.55732601e+06, 5.00000000e+00]), 1000.0]\n",
      "[array([6.0000000e+00, 1.7330831e+06, 1.7330831e+06, 6.0000000e+00]), 1000.0]\n",
      "[array([7.00000000e+00, 1.90565182e+06, 1.90565182e+06, 7.00000000e+00]), 1000.0]\n",
      "[array([8.00000000e+00, 2.22584068e+06, 2.22584068e+06, 8.00000000e+00]), 1000.0]\n",
      "[array([9.00000000e+00, 2.49497467e+06, 2.49497467e+06, 9.00000000e+00]), 1000.0]\n",
      "[array([1.00000000e+01, 2.70469631e+06, 2.70469631e+06, 1.00000000e+01]), 1000.0]\n",
      "[array([1.10000000e+01, 2.85868159e+06, 2.85868159e+06, 1.10000000e+01]), 1000.0]\n",
      "[array([1.20000000e+01, 3.04055885e+06, 3.04055885e+06, 1.20000000e+01]), 1000.0]\n",
      "[array([1.30000000e+01, 3.12197577e+06, 3.12197577e+06, 1.30000000e+01]), 1000.0]\n",
      "finish\n"
     ]
    }
   ],
   "source": [
    "scheme_check(volt,r,r_std,r_ref,14,1000,fitting_model_average_choice=False,\n",
    "             write_based_data=False,read_based_data=True,cycle_variation=False,device_variation=False)"
   ]
  },
  {
   "cell_type": "markdown",
   "metadata": {},
   "source": [
    "위 두개의 예는 write_based_data,read_based_data가 다릅니다. True일 경우 data average를 기반으로 하고, False일 경우 fitting model average를 기반으로 하는데 0-1V, ~4V라는 fitting quality가 낮은 구역을 제외한 레벨들이기 때문에 서로 섞어써도 별 차이가 없는 것을 알 수 있습니다.\n",
    "이 부분 역시 레벨 수가 커지면 영향이 생기기는 하겠지만 마찬가지로 variation 영향 속에서 significant하지는 않을 듯 합니다."
   ]
  },
  {
   "cell_type": "code",
   "execution_count": 42,
   "metadata": {
    "scrolled": true
   },
   "outputs": [
    {
     "name": "stdout",
     "output_type": "stream",
     "text": [
      "fitting_model_average_choice: \n",
      "[mean_a,mean_b,mean_c,mean_d]= [3154737.6, 4.7517561, 2.7140852, 26013.311999999998]\n",
      "write_based_data:\n",
      "r= [ 412921.21487398  605076.15483507  863777.33500968 1186003.78396469\n",
      " 1365053.3276679  1550615.78524327 1737651.98809127 1920960.76244909\n",
      " 2258087.61584135 2535706.89842316 2746061.2965537  2895611.44096009\n",
      " 3064044.14273295 3134583.80161944]\n",
      "read_based_data:\n",
      "r_ref= [ 508998.68485452  734426.74492238 1024890.55948719 1275528.5558163\n",
      " 1457834.55645558 1644133.88666727 1829306.37527018 2089524.18914522\n",
      " 2396897.25713225 2640884.09748843 2820836.3687569  2979827.79184652\n",
      " 3099313.97217619]\n",
      "cycle_variation:\n",
      "meanofstd= [133882.2  122234.07 220532.75 250271.67 237156.48 261253.06 246720.44\n",
      " 219977.48 211311.81 220284.16 192955.4  171979.44 169466.98 157368.23] \n",
      "stdofstd= [0. 0. 0. 0. 0. 0. 0. 0. 0. 0. 0. 0. 0. 0.]\n",
      "device_variation:\n",
      "stdofmean= [0, 0, 0, 0] \n",
      "stdofstd= [0. 0. 0. 0. 0. 0. 0. 0. 0. 0. 0. 0. 0. 0.]\n",
      "[array([     0.        , 412921.21487398, 207838.27933444,      0.        ]), 776.0]\n",
      "[array([1.00000000e+00, 6.05076155e+05, 7.16982297e+05, 1.00000000e+00]), 643.0]\n",
      "[array([2.00000000e+00, 8.63777335e+05, 7.84172430e+05, 2.00000000e+00]), 472.0]\n",
      "[array([3.00000000e+00, 1.18600378e+06, 1.13779721e+06, 3.00000000e+00]), 360.0]\n",
      "[array([4.00000000e+00, 1.36505333e+06, 1.33772835e+06, 4.00000000e+00]), 306.0]\n",
      "[array([5.00000000e+00, 1.55061579e+06, 2.07986910e+06, 7.00000000e+00]), 279.0]\n",
      "[array([6.00000000e+00, 1.73765199e+06, 1.27407818e+06, 3.00000000e+00]), 309.0]\n",
      "[array([7.00000000e+00, 1.92096076e+06, 2.32970496e+06, 8.00000000e+00]), 424.0]\n",
      "[array([8.00000000e+00, 2.25808762e+06, 2.12154758e+06, 8.00000000e+00]), 545.0]\n",
      "[array([9.0000000e+00, 2.5357069e+06, 2.4882523e+06, 9.0000000e+00]), 396.0]\n",
      "[array([1.0000000e+01, 2.7460613e+06, 2.2574822e+06, 8.0000000e+00]), 355.0]\n",
      "[array([1.10000000e+01, 2.89561144e+06, 2.76743462e+06, 1.00000000e+01]), 359.0]\n",
      "[array([1.20000000e+01, 3.06404414e+06, 2.96109577e+06, 1.10000000e+01]), 270.0]\n",
      "[array([1.30000000e+01, 3.13458380e+06, 3.10758275e+06, 1.30000000e+01]), 592.0]\n",
      "finish\n"
     ]
    }
   ],
   "source": [
    "scheme_check(volt,r,r_std,r_ref,14,1000,fitting_model_average_choice=True,\n",
    "             write_based_data=False,read_based_data=False,cycle_variation=True,device_variation=False)"
   ]
  },
  {
   "cell_type": "code",
   "execution_count": 25,
   "metadata": {
    "scrolled": true
   },
   "outputs": [
    {
     "name": "stdout",
     "output_type": "stream",
     "text": [
      "fitting_model_average_choice: \n",
      "[mean_a,mean_b,mean_c,mean_d]= [3154737.6, 4.7517561, 2.7140852, 26013.311999999998]\n",
      "write_based_data:\n",
      "r= [ 412921.21487398  605076.15483507  863777.33500968 1186003.78396469\n",
      " 1365053.3276679  1550615.78524327 1737651.98809127 1920960.76244909\n",
      " 2258087.61584135 2535706.89842316 2746061.2965537  2895611.44096009\n",
      " 3064044.14273295 3134583.80161944]\n",
      "read_based_data:\n",
      "r_ref= [ 508998.68485452  734426.74492238 1024890.55948719 1275528.5558163\n",
      " 1457834.55645558 1644133.88666727 1829306.37527018 2089524.18914522\n",
      " 2396897.25713225 2640884.09748843 2820836.3687569  2979827.79184652\n",
      " 3099313.97217619]\n",
      "cycle_variation:\n",
      "meanofstd= [0. 0. 0. 0. 0. 0. 0. 0. 0. 0. 0. 0. 0. 0.] \n",
      "stdofstd= [0. 0. 0. 0. 0. 0. 0. 0. 0. 0. 0. 0. 0. 0.]\n",
      "device_variation:\n",
      "stdofmean= [220288.80000000002, 0.8140512000000001, 0.0960402, 19339.372] \n",
      "stdofstd= [0. 0. 0. 0. 0. 0. 0. 0. 0. 0. 0. 0. 0. 0.]\n",
      "[array([     0.        , 412921.21487398, 120735.56513423,      0.        ]), 656.0]\n",
      "[array([1.00000000e+00, 6.05076155e+05, 6.18748500e+05, 1.00000000e+00]), 323.0]\n",
      "[array([2.00000000e+00, 8.63777335e+05, 1.13010176e+06, 3.00000000e+00]), 377.0]\n",
      "[array([3.00000000e+00, 1.18600378e+06, 1.25051971e+06, 3.00000000e+00]), 281.0]\n",
      "[array([4.00000000e+00, 1.36505333e+06, 1.04668540e+06, 3.00000000e+00]), 193.0]\n",
      "[array([5.00000000e+00, 1.55061579e+06, 9.01092029e+05, 2.00000000e+00]), 170.0]\n",
      "[array([6.00000000e+00, 1.73765199e+06, 2.63296808e+06, 9.00000000e+00]), 220.0]\n",
      "[array([7.00000000e+00, 1.92096076e+06, 2.45049108e+06, 9.00000000e+00]), 253.0]\n",
      "[array([8.00000000e+00, 2.25808762e+06, 1.67398382e+06, 6.00000000e+00]), 345.0]\n",
      "[array([9.00000000e+00, 2.53570690e+06, 1.99260539e+06, 7.00000000e+00]), 313.0]\n",
      "[array([1.00000000e+01, 2.74606130e+06, 2.82628788e+06, 1.10000000e+01]), 253.0]\n",
      "[array([1.10000000e+01, 2.89561144e+06, 2.86933715e+06, 1.10000000e+01]), 230.0]\n",
      "[array([1.20000000e+01, 3.06404414e+06, 2.66400510e+06, 1.00000000e+01]), 191.0]\n",
      "[array([1.30000000e+01, 3.13458380e+06, 3.30875904e+06, 1.30000000e+01]), 560.0]\n",
      "[ 508998.68485452  734426.74492238 1024890.55948719 1275528.5558163\n",
      " 1457834.55645558 1644133.88666727 1829306.37527018 2089524.18914522\n",
      " 2396897.25713225 2640884.09748843 2820836.3687569  2979827.79184652\n",
      " 3099313.97217619]\n",
      "finish\n"
     ]
    }
   ],
   "source": [
    "scheme_check(volt,r,r_std,r_ref,14,1000,fitting_model_average_choice=True,\n",
    "             write_based_data=False,read_based_data=False,cycle_variation=False,device_variation=True)"
   ]
  },
  {
   "cell_type": "markdown",
   "metadata": {},
   "source": [
    "위의 두 예를 통해 당연하지만 device_variation의 영향이 cycle_variation보다 큰걸 알 수 있습니다"
   ]
  },
  {
   "cell_type": "code",
   "execution_count": 93,
   "metadata": {},
   "outputs": [
    {
     "name": "stdout",
     "output_type": "stream",
     "text": [
      "I find the information of 16Levels\n",
      "fitting_model_average_choice: \n",
      "[mean_a,mean_b,mean_c,mean_d]= [3154737.6, 4.7517561, 2.7140852, 26013.311999999998]\n",
      "write_based_data:\n",
      "r= [  61155.27593001  267474.52664426  482202.35715172  700381.9245092\n",
      "  893338.11520616 1117215.63448026 1328570.38040158 1550615.78524327\n",
      " 1774774.70072795 1992140.62603373 2194847.86297998 2405240.62998977\n",
      " 2605787.12360004 2812523.23946196 3020330.95512241 3173763.64284554]\n",
      "read_based_data:\n",
      "r_ref= [ 164314.90128713  374838.44189799  591292.14083046  796860.01985768\n",
      " 1005276.87484321 1222893.00744092 1439593.08282243 1662695.24298561\n",
      " 1883457.66338084 2093494.24450685 2300044.24648487 2505513.8767949\n",
      " 2709155.181531   2916427.09729218 3097047.29898398]\n",
      "cycle_variation:\n",
      "meanofstd= [  7687.0293 111016.586  172245.03   163174.28   231089.31   249086.64\n",
      " 251062.75   261253.06   274198.56   245157.73   202493.7    198167.94\n",
      " 207318.5    193427.67   145129.94   167212.72  ] \n",
      "stdofstd= [  3843.5146  55508.293   86122.516   81587.14   115544.66   124543.32\n",
      " 125531.375  130626.53   137099.28   122578.87   101246.85    99083.97\n",
      " 103659.25    96713.836   72564.97    83606.36  ]\n",
      "device_variation:\n",
      "stdofmean= [220288.80000000002, 0.8140512000000001, 0.0960402, 19339.372] \n",
      "stdofstd= [  3843.5146  55508.293   86122.516   81587.14   115544.66   124543.32\n",
      " 125531.375  130626.53   137099.28   122578.87   101246.85    99083.97\n",
      " 103659.25    96713.836   72564.97    83606.36  ]\n",
      "162916.1871785224\n",
      "[array([     0.        ,  61155.27593001, 175179.17064697]), 162916.1871785224, 1.0, 0.0]\n",
      "[0. 1. 0. 0. 0. 0. 0. 0. 0. 0. 0. 0. 0. 0. 0. 0.]\n",
      "82335.37718022242\n",
      "[array([1.00000000e+00, 2.67474527e+05, 1.21882392e+05]), 82335.37718022242, 0.0, 0.0]\n",
      "[1. 0. 0. 0. 0. 0. 0. 0. 0. 0. 0. 0. 0. 0. 0. 0.]\n",
      "486189.9635171279\n",
      "[array([2.00000000e+00, 4.82202357e+05, 5.47532801e+05]), 486189.9635171279, 2.0, 1.0]\n",
      "[0. 0. 1. 0. 0. 0. 0. 0. 0. 0. 0. 0. 0. 0. 0. 0.]\n",
      "1014219.171542815\n",
      "[array([3.00000000e+00, 7.00381925e+05, 1.40355078e+06]), 1014219.171542815, 6.0, 0.0]\n",
      "[0. 0. 0. 0. 0. 0. 1. 0. 0. 0. 0. 0. 0. 0. 0. 0.]\n",
      "983891.8013193631\n",
      "[array([4.00000000e+00, 8.93338115e+05, 7.58285797e+05]), 983891.8013193631, 3.0, 0.0]\n",
      "[0. 0. 0. 1. 0. 0. 0. 0. 0. 0. 0. 0. 0. 0. 0. 0.]\n",
      "784551.7953554641\n",
      "[array([5.00000000e+00, 1.11721563e+06, 9.30748123e+05]), 784551.7953554641, 4.0, 0.0]\n",
      "[0. 0. 0. 0. 1. 0. 0. 0. 0. 0. 0. 0. 0. 0. 0. 0.]\n",
      "1062550.5357404826\n",
      "[array([6.00000000e+00, 1.32857038e+06, 1.01180162e+06]), 1062550.5357404826, 5.0, 0.0]\n",
      "[0. 0. 0. 0. 0. 1. 0. 0. 0. 0. 0. 0. 0. 0. 0. 0.]\n",
      "2022024.8498035646\n",
      "[array([7.00000000e+00, 1.55061579e+06, 2.72318601e+06]), 2022024.8498035646, 13.0, 0.0]\n",
      "[0. 0. 0. 0. 0. 0. 0. 0. 0. 0. 0. 0. 0. 1. 0. 0.]\n",
      "1668382.1366887982\n",
      "[array([8.00000000e+00, 1.77477470e+06, 1.90247592e+06]), 1668382.1366887982, 9.0, 0.0]\n",
      "[0. 0. 0. 0. 0. 0. 0. 0. 0. 1. 0. 0. 0. 0. 0. 0.]\n",
      "2114431.7769743004\n",
      "[array([9.00000000e+00, 1.99214063e+06, 2.01116265e+06]), 2114431.7769743004, 9.0, 1.0]\n",
      "[0. 0. 0. 0. 0. 0. 0. 0. 0. 1. 0. 0. 0. 0. 0. 0.]\n",
      "2360962.8888201\n",
      "[array([1.00000000e+01, 2.19484786e+06, 2.51147783e+06]), 2360962.8888201, 12.0, 0.0]\n",
      "[0. 0. 0. 0. 0. 0. 0. 0. 0. 0. 0. 0. 1. 0. 0. 0.]\n",
      "2935432.436685768\n",
      "[array([1.10000000e+01, 2.40524063e+06, 3.38880237e+06]), 2935432.436685768, 15.0, 0.0]\n",
      "[0. 0. 0. 0. 0. 0. 0. 0. 0. 0. 0. 0. 0. 0. 0. 1.]\n",
      "2687698.980628924\n",
      "[array([1.20000000e+01, 2.60578712e+06, 2.74973964e+06]), 2687698.980628924, 13.0, 0.0]\n",
      "[0. 0. 0. 0. 0. 0. 0. 0. 0. 0. 0. 0. 0. 1. 0. 0.]\n",
      "3197853.152319793\n",
      "[array([1.30000000e+01, 2.81252324e+06, 3.34843337e+06]), 3197853.152319793, 15.0, 0.0]\n",
      "[0. 0. 0. 0. 0. 0. 0. 0. 0. 0. 0. 0. 0. 0. 0. 1.]\n",
      "2791738.428911106\n",
      "[array([1.40000000e+01, 3.02033096e+06, 2.64122447e+06]), 2791738.428911106, 12.0, 0.0]\n",
      "[0. 0. 0. 0. 0. 0. 0. 0. 0. 0. 0. 0. 1. 0. 0. 0.]\n",
      "2852597.12193083\n",
      "[array([1.50000000e+01, 3.17376364e+06, 2.96978801e+06]), 2852597.12193083, 14.0, 0.0]\n",
      "[0. 0. 0. 0. 0. 0. 0. 0. 0. 0. 0. 0. 0. 0. 1. 0.]\n"
     ]
    },
    {
     "data": {
      "image/png": "[encoded data removed]",
      "text/plain": [
       "<Figure size 432x288 with 1 Axes>"
      ]
     },
     "metadata": {},
     "output_type": "display_data"
    },
    {
     "name": "stdout",
     "output_type": "stream",
     "text": [
      "finish\n"
     ]
    }
   ],
   "source": [
    "num_level=16\n",
    "volt,r,r_std,r_ref=load_info(num_level=num_level,choice=0)\n",
    "scheme_check(volt,r,r_std,r_ref,num_level,1,fitting_model_average_choice=True,\n",
    "             write_based_data=False,read_based_data=False,cycle_variation=True,device_variation=True,onecell=False)\n",
    "\n"
   ]
  },
  {
   "cell_type": "code",
   "execution_count": 99,
   "metadata": {},
   "outputs": [
    {
     "name": "stdout",
     "output_type": "stream",
     "text": [
      "{'ddd': [1, 2, 3, 4, 5], 'low': [1898000, 1885000, 1903000, 1951000, 1949000], 'open': [1903000, 1901000, 1948000, 1951000, 1950000], 'close': [1922000, 1903000, 1911000, 1959000, 1965000], 'high': [1938000, 1907000, 1955000, 1972000, 1967000]}\n",
      "              close  ddd     high      low     open\n",
      "2017.02.28  1922000    1  1938000  1898000  1903000\n",
      "2017.02.27  1903000    2  1907000  1885000  1901000\n",
      "2017.02.24  1911000    3  1955000  1903000  1948000\n",
      "2017.02.23  1959000    4  1972000  1951000  1951000\n",
      "2017.02.22  1965000    5  1967000  1949000  1950000\n",
      "AxesSubplot(0.125,0.125;0.775x0.755)\n"
     ]
    },
    {
     "data": {
      "image/png": "[encoded data removed]",
      "text/plain": [
       "<Figure size 432x288 with 1 Axes>"
      ]
     },
     "metadata": {},
     "output_type": "display_data"
    },
    {
     "data": {
      "image/png": "[encoded data removed]",
      "text/plain": [
       "<Figure size 432x288 with 1 Axes>"
      ]
     },
     "metadata": {},
     "output_type": "display_data"
    },
    {
     "name": "stdout",
     "output_type": "stream",
     "text": [
      "[1.7  1.71 1.72 1.73 1.74 1.75 1.76 1.77 1.78 1.79 1.8  1.81 1.82 1.83\n",
      " 1.84 1.85 1.86 1.87 1.88 1.89 1.9  1.91 1.92 1.93 1.94 1.95 1.96 1.97\n",
      " 1.98 1.99 2.   2.01 2.02 2.03 2.04 2.05 2.06 2.07 2.08 2.09 2.1  2.11\n",
      " 2.12 2.13 2.14 2.15 2.16 2.17 2.18 2.19 2.2  2.21 2.22 2.23 2.24 2.25\n",
      " 2.26 2.27 2.28 2.29 2.3  2.31 2.32 2.33 2.34 2.35 2.36 2.37 2.38 2.39\n",
      " 2.4  2.41 2.42 2.43 2.44 2.45 2.46 2.47 2.48 2.49 2.5  2.51 2.52 2.53\n",
      " 2.54 2.55 2.56 2.57 2.58 2.59 2.6  2.61 2.62 2.63 2.64 2.65 2.66 2.67\n",
      " 2.68 2.69 2.7  2.71 2.72 2.73 2.74 2.75 2.76 2.77 2.78 2.79 2.8  2.81\n",
      " 2.82 2.83 2.84 2.85 2.86 2.87 2.88 2.89 2.9  2.91 2.92 2.93 2.94 2.95\n",
      " 2.96 2.97 2.98 2.99 3.   3.01 3.02 3.03 3.04 3.05 3.06 3.07 3.08 3.09\n",
      " 3.1  3.11 3.12 3.13 3.14 3.15 3.16 3.17 3.18 3.19 3.2  3.21 3.22 3.23\n",
      " 3.24 3.25 3.26 3.27 3.28 3.29 3.3  3.31 3.32 3.33 3.34 3.35 3.36 3.37\n",
      " 3.38 3.39 3.4  3.41 3.42 3.43 3.44 3.45 3.46 3.47 3.48 3.49 3.5  3.51\n",
      " 3.52 3.53 3.54 3.55 3.56 3.57 3.58 3.59 3.6  3.61 3.62 3.63 3.64 3.65\n",
      " 3.66 3.67 3.68 3.69 3.7  3.71 3.72 3.73 3.74 3.75 3.76 3.77 3.78 3.79\n",
      " 3.8  3.81 3.82 3.83 3.84 3.85 3.86 3.87 3.88 3.89 3.9  3.91 3.92 3.93\n",
      " 3.94 3.95 3.96 3.97 3.98 3.99 4.  ]\n"
     ]
    }
   ],
   "source": [
    "date = ['2017.02.22', '2017.02.23', '2017.02.24', '2017.02.27', '2017.02.28']\n",
    "raw_data = {'open': [1903000, 1901000, 1948000, 1951000, 1950000],\n",
    "            'close': [1922000, 1903000, 1911000, 1959000, 1965000],\n",
    "            'high': [1938000, 1907000, 1955000, 1972000, 1967000],\n",
    "            'low': [1898000, 1885000, 1903000, 1951000, 1949000]}\n",
    "raw_data['ddd']=[1,2,3,4,5]\n",
    "print(raw_data)\n",
    "samsung2 = pd.DataFrame(raw_data, index=reversed(date))\n",
    "print(samsung2)\n",
    "samsung2.plot()\n",
    "print(samsung2.plot())\n",
    "plt.show()\n",
    "print(np.linspace(1.7,4,231))\n",
    "col_index=[1.7+0.01*i for i in range(231)]"
   ]
  },
  {
   "cell_type": "code",
   "execution_count": 89,
   "metadata": {},
   "outputs": [
    {
     "name": "stdout",
     "output_type": "stream",
     "text": [
      "\n"
     ]
    },
    {
     "data": {
      "text/plain": [
       "'ddd00'"
      ]
     },
     "execution_count": 89,
     "metadata": {},
     "output_type": "execute_result"
    }
   ],
   "source": []
  },
  {
   "cell_type": "code",
   "execution_count": null,
   "metadata": {},
   "outputs": [],
   "source": []
  }
 ],
 "metadata": {
  "kernelspec": {
   "display_name": "Python 3",
   "language": "python",
   "name": "python3"
  },
  "language_info": {
   "codemirror_mode": {
    "name": "ipython",
    "version": 3
   },
   "file_extension": ".py",
   "mimetype": "text/x-python",
   "name": "python",
   "nbconvert_exporter": "python",
   "pygments_lexer": "ipython3",
   "version": "3.5.5"
  }
 },
 "nbformat": 4,
 "nbformat_minor": 2
}
