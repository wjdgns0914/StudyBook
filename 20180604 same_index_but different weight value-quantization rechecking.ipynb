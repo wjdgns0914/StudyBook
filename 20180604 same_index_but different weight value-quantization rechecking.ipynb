{
 "cells": [
  {
   "cell_type": "code",
   "execution_count": 1,
   "metadata": {},
   "outputs": [],
   "source": [
    "import tensorflow as tf\n",
    "import numpy as np"
   ]
  },
  {
   "cell_type": "code",
   "execution_count": 8,
   "metadata": {},
   "outputs": [],
   "source": [
    "x=np.array([0,1,2,3,4,5,6,7,8,9,10,11,12,13])\n",
    "x1=\n",
    "target_level=14\n",
    "bits = np.ceil(np.log(target_level) / np.log(2.0))\n",
    "SCALE=2**(bits-1)\n",
    "level_index = ((x * 2 * SCALE + target_level - 1) / 2)"
   ]
  },
  {
   "cell_type": "code",
   "execution_count": 10,
   "metadata": {},
   "outputs": [
    {
     "name": "stdout",
     "output_type": "stream",
     "text": [
      "8.0\n",
      "[[-1.00000000e+00 -9.00000000e-01 -8.00000000e-01 -7.00000000e-01\n",
      "  -6.00000000e-01 -5.00000000e-01 -4.00000000e-01 -3.00000000e-01\n",
      "  -2.00000000e-01 -1.00000000e-01 -2.22044605e-16  1.00000000e-01\n",
      "   2.00000000e-01  3.00000000e-01  4.00000000e-01  5.00000000e-01\n",
      "   6.00000000e-01  7.00000000e-01  8.00000000e-01  9.00000000e-01]]\n",
      "[[-1.5 -0.7  0.1  0.9  1.7  2.5  3.3  4.1  4.9  5.7  6.5  7.3  8.1  8.9\n",
      "   9.7 10.5 11.3 12.1 12.9 13.7]]\n"
     ]
    }
   ],
   "source": [
    "print(SCALE)\n",
    "print(x)\n",
    "print(level_index)"
   ]
  },
  {
   "cell_type": "code",
   "execution_count": null,
   "metadata": {},
   "outputs": [],
   "source": []
  }
 ],
 "metadata": {
  "kernelspec": {
   "display_name": "Python [conda env:tensorflow]",
   "language": "python",
   "name": "conda-env-tensorflow-py"
  },
  "language_info": {
   "codemirror_mode": {
    "name": "ipython",
    "version": 3
   },
   "file_extension": ".py",
   "mimetype": "text/x-python",
   "name": "python",
   "nbconvert_exporter": "python",
   "pygments_lexer": "ipython3",
   "version": "3.6.4"
  },
  "varInspector": {
   "cols": {
    "lenName": 16,
    "lenType": 16,
    "lenVar": "55"
   },
   "kernels_config": {
    "python": {
     "delete_cmd_postfix": "",
     "delete_cmd_prefix": "del ",
     "library": "var_list.py",
     "varRefreshCmd": "print(var_dic_list())"
    },
    "r": {
     "delete_cmd_postfix": ") ",
     "delete_cmd_prefix": "rm(",
     "library": "var_list.r",
     "varRefreshCmd": "cat(var_dic_list()) "
    }
   },
   "types_to_exclude": [
    "module",
    "function",
    "builtin_function_or_method",
    "instance",
    "_Feature"
   ],
   "window_display": false
  }
 },
 "nbformat": 4,
 "nbformat_minor": 2
}
