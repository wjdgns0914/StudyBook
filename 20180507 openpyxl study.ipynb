{
 "cells": [
  {
   "cell_type": "code",
   "execution_count": 20,
   "metadata": {},
   "outputs": [
    {
     "name": "stdout",
     "output_type": "stream",
     "text": [
      "['2Levels', '3Levels', '4Levels']\n",
      "-0.5\n",
      "int32\n",
      "[-0.3125  0.3125]\n",
      "False\n"
     ]
    }
   ],
   "source": [
    "from openpyxl import load_workbook\n",
    "import numpy as np\n",
    "wb = load_workbook(filename = 'level_info.xlsx')\n",
    "print(wb.sheetnames)\n",
    "# print(dir(wb))\n",
    "try:\n",
    "    sheet_ranges = wb['5Levels']\n",
    "except:\n",
    "    sheet_ranges = wb['2Levels']\n",
    "    print(wb['2Levels']['A2'].value)\n",
    "x=np.array([cell.value for cell in tuple(sheet_ranges.rows)[0]])\n",
    "print(x.dtype)\n",
    "print(x/3.2)\n",
    "print(sheet_ranges['D18'].value!=None)"
   ]
  },
  {
   "cell_type": "code",
   "execution_count": 27,
   "metadata": {},
   "outputs": [
    {
     "data": {
      "text/plain": [
       "array([-0.        , -1.83879489, -3.67758978, -5.51638467, -7.35517956])"
      ]
     },
     "execution_count": 27,
     "metadata": {},
     "output_type": "execute_result"
    }
   ],
   "source": [
    "np.random.normal(0,2)*np.array([i for i in range(5)])"
   ]
  },
  {
   "cell_type": "code",
   "execution_count": null,
   "metadata": {},
   "outputs": [],
   "source": []
  }
 ],
 "metadata": {
  "kernelspec": {
   "display_name": "Python 3",
   "language": "python",
   "name": "python3"
  },
  "language_info": {
   "codemirror_mode": {
    "name": "ipython",
    "version": 3
   },
   "file_extension": ".py",
   "mimetype": "text/x-python",
   "name": "python",
   "nbconvert_exporter": "python",
   "pygments_lexer": "ipython3",
   "version": "3.5.5"
  }
 },
 "nbformat": 4,
 "nbformat_minor": 2
}
