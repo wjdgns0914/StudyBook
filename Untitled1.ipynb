{
 "cells": [
  {
   "cell_type": "code",
   "execution_count": 41,
   "metadata": {},
   "outputs": [
    {
     "name": "stdout",
     "output_type": "stream",
     "text": [
      "[-6.9141430e-01 -3.8530529e-01 -5.1635504e-04 -5.3501511e-01\n",
      "  1.3038009e-01]\n",
      "[(array([-0.67656577, -2.2164886 , -3.6018586 , -9.824097  , -8.696199  ],\n",
      "      dtype=float32), array([-6.9141430e-01, -3.8530529e-01, -5.1635504e-04, -5.3501511e-01,\n",
      "        1.3038009e-01], dtype=float32))]\n",
      "[-6.9141430e-01 -3.8530529e-01 -5.1635504e-04 -5.3501511e-01\n",
      "  1.3038009e-01] \n",
      " [-6.904143e-01 -3.843053e-01  4.836449e-04 -5.340151e-01  1.313801e-01] \n",
      " [0.00099999 0.00099999 0.001      0.00099999 0.001     ]\n"
     ]
    }
   ],
   "source": [
    "import tensorflow as tf\n",
    "tf.reset_default_graph()\n",
    "y_true=tf.constant([1,2.,3,4,5])\n",
    "x=tf.constant([1,2,3,4.,5])\n",
    "w=tf.get_variable(name='w',shape=[5,],initializer=tf.contrib.layers.xavier_initializer(),)\n",
    "y=w*x\n",
    "loss=tf.reduce_mean(tf.pow(y-y_true,2))\n",
    "global_step=tf.Variable(0,trainable=False)\n",
    "opt = tf.train.AdamOptimizer(learning_rate=0.001)\n",
    "grads = opt.compute_gradients(loss)\n",
    "apply_gradient_op = opt.apply_gradients(grads, global_step=global_step)\n",
    "with tf.Session() as sess:\n",
    "    sess.run(tf.global_variables_initializer())\n",
    "    w1=sess.run(w)\n",
    "    print(w1)\n",
    "    print(sess.run(grads))\n",
    "    sess.run(apply_gradient_op)\n",
    "    w2=sess.run(w)\n",
    "    print(w1,'\\n',w2,'\\n',w2-w1)\n"
   ]
  },
  {
   "cell_type": "code",
   "execution_count": 43,
   "metadata": {},
   "outputs": [
    {
     "name": "stdout",
     "output_type": "stream",
     "text": [
      "Hi\n"
     ]
    }
   ],
   "source": [
    "print('Hi',)"
   ]
  },
  {
   "cell_type": "code",
   "execution_count": 60,
   "metadata": {},
   "outputs": [
    {
     "name": "stdout",
     "output_type": "stream",
     "text": [
      "0.999896315728952\n",
      "2.1153662\n",
      "8.0\n"
     ]
    }
   ],
   "source": [
    "import numpy as np\n",
    "print(np.log(2.718))\n",
    "def Shift(x):\n",
    "  return 2 ** tf.round(tf.log(x) / tf.log(2.0))\n",
    "with tf.Session() as sess:\n",
    "    print(sess.run(tf.log(4.333)/tf.log(2.)))   #log2(4.333)=log(4.333)/log(2)\n",
    "    print(sess.run(Shift(7.)))"
   ]
  },
  {
   "cell_type": "code",
   "execution_count": 64,
   "metadata": {},
   "outputs": [
    {
     "name": "stdout",
     "output_type": "stream",
     "text": [
      "[0.  0.1 0.2 0.3 0.4 0.5 0.6 0.7 0.8 0.9 1.  1.1 1.2 1.3 1.4 1.5 1.6 1.7\n",
      " 1.8 1.9 2.  2.1 2.2 2.3 2.4 2.5 2.6 2.7 2.8 2.9 3.  3.1 3.2 3.3 3.4 3.5\n",
      " 3.6 3.7 3.8 3.9 4.  4.1 4.2 4.3 4.4 4.5 4.6 4.7 4.8 4.9 5.  5.1 5.2 5.3\n",
      " 5.4 5.5 5.6 5.7 5.8 5.9 6.  6.1 6.2 6.3 6.4 6.5 6.6 6.7 6.8 6.9 7.  7.1\n",
      " 7.2 7.3 7.4 7.5 7.6 7.7 7.8 7.9 8.  8.1 8.2 8.3 8.4 8.5 8.6 8.7 8.8 8.9\n",
      " 9.  9.1 9.2 9.3 9.4 9.5 9.6 9.7 9.8 9.9]\n",
      "[0.    0.125 0.25  0.25  0.375 0.5   0.625 0.75  0.75  0.875 1.    1.125\n",
      " 1.25  1.25  1.375 1.5   1.625 1.75  1.75  1.875 2.    2.125 2.25  2.25\n",
      " 2.375 2.5   2.625 2.75  2.75  2.875 3.    3.125 3.25  3.25  3.375 3.5\n",
      " 3.625 3.75  3.75  3.875 4.    4.125 4.25  4.25  4.375 4.5   4.625 4.75\n",
      " 4.75  4.875 5.    5.125 5.25  5.25  5.375 5.5   5.625 5.75  5.75  5.875\n",
      " 6.    6.125 6.25  6.25  6.375 6.5   6.625 6.75  6.75  6.875 7.    7.125\n",
      " 7.25  7.25  7.375 7.5   7.625 7.75  7.75  7.875 8.    8.125 8.25  8.25\n",
      " 8.375 8.5   8.625 8.75  8.75  8.875 9.    9.125 9.25  9.25  9.375 9.5\n",
      " 9.625 9.75  9.75  9.875]\n",
      "[ 0.   0.8  1.6  2.4  3.2  4.   4.8  5.6  6.4  7.2  8.   8.8  9.6 10.4\n",
      " 11.2 12.  12.8 13.6 14.4 15.2 16.  16.8 17.6 18.4 19.2 20.  20.8 21.6\n",
      " 22.4 23.2 24.  24.8 25.6 26.4 27.2 28.  28.8 29.6 30.4 31.2 32.  32.8\n",
      " 33.6 34.4 35.2 36.  36.8 37.6 38.4 39.2 40.  40.8 41.6 42.4 43.2 44.\n",
      " 44.8 45.6 46.4 47.2 48.  48.8 49.6 50.4 51.2 52.  52.8 53.6 54.4 55.2\n",
      " 56.  56.8 57.6 58.4 59.2 60.  60.8 61.6 62.4 63.2 64.  64.8 65.6 66.4\n",
      " 67.2 68.  68.8 69.6 70.4 71.2 72.  72.8 73.6 74.4 75.2 76.  76.8 77.6\n",
      " 78.4 79.2]\n",
      "[ 0.  1.  2.  2.  3.  4.  5.  6.  6.  7.  8.  9. 10. 10. 11. 12. 13. 14.\n",
      " 14. 15. 16. 17. 18. 18. 19. 20. 21. 22. 22. 23. 24. 25. 26. 26. 27. 28.\n",
      " 29. 30. 30. 31. 32. 33. 34. 34. 35. 36. 37. 38. 38. 39. 40. 41. 42. 42.\n",
      " 43. 44. 45. 46. 46. 47. 48. 49. 50. 50. 51. 52. 53. 54. 54. 55. 56. 57.\n",
      " 58. 58. 59. 60. 61. 62. 62. 63. 64. 65. 66. 66. 67. 68. 69. 70. 70. 71.\n",
      " 72. 73. 74. 74. 75. 76. 77. 78. 78. 79.]\n"
     ]
    }
   ],
   "source": [
    "x=np.array([0.1*i for i in range(100)])\n",
    "y=1/8*np.round(x*8)\n",
    "print(x)\n",
    "print(y)\n",
    "print(8*x)\n",
    "print(8*y)"
   ]
  },
  {
   "cell_type": "code",
   "execution_count": 1,
   "metadata": {},
   "outputs": [],
   "source": [
    "import numpy as np\n"
   ]
  },
  {
   "cell_type": "code",
   "execution_count": 4,
   "metadata": {},
   "outputs": [],
   "source": [
    "def Shift(x):\n",
    "    return 2**np.round(np.log(x)/np.log(2.0))"
   ]
  },
  {
   "cell_type": "code",
   "execution_count": 28,
   "metadata": {},
   "outputs": [
    {
     "name": "stdout",
     "output_type": "stream",
     "text": [
      "4.0\n",
      "1.4142135\n",
      "1.4142135623730951\n"
     ]
    }
   ],
   "source": [
    "x=[i*0.000001 for i in range(4000001,8000000)]\n",
    "print((Shift(x)).min())\n",
    "print((np.array(x)/Shift(x)).max())\n",
    "print(np.sqrt(2))"
   ]
  },
  {
   "cell_type": "code",
   "execution_count": null,
   "metadata": {},
   "outputs": [],
   "source": []
  }
 ],
 "metadata": {
  "kernelspec": {
   "display_name": "Python 3",
   "language": "python",
   "name": "python3"
  },
  "language_info": {
   "codemirror_mode": {
    "name": "ipython",
    "version": 3
   },
   "file_extension": ".py",
   "mimetype": "text/x-python",
   "name": "python",
   "nbconvert_exporter": "python",
   "pygments_lexer": "ipython3",
   "version": "3.6.4"
  }
 },
 "nbformat": 4,
 "nbformat_minor": 2
}
