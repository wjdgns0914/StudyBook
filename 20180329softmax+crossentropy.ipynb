{
 "cells": [
  {
   "cell_type": "markdown",
   "metadata": {},
   "source": [
    "## 1.custom_func test하는 곳 "
   ]
  },
  {
   "cell_type": "code",
   "execution_count": 2,
   "metadata": {},
   "outputs": [],
   "source": [
    "import tensorflow as tf"
   ]
  },
  {
   "cell_type": "code",
   "execution_count": 2,
   "metadata": {},
   "outputs": [],
   "source": [
    "def make_index(x,ref):\n",
    "    index=tf.to_float(x>=ref[0])\n",
    "    for ref in ref[1:]:\n",
    "        index+=tf.to_float(x>=ref)\n",
    "    return index"
   ]
  },
  {
   "cell_type": "code",
   "execution_count": 4,
   "metadata": {},
   "outputs": [],
   "source": [
    "x=tf.constant([12311,6342,25222,18653,9312])\n",
    "ref=[14000,20000]\n",
    "index=make_index(x,ref)"
   ]
  },
  {
   "cell_type": "code",
   "execution_count": 6,
   "metadata": {},
   "outputs": [
    {
     "name": "stdout",
     "output_type": "stream",
     "text": [
      "[0. 0. 2. 1. 0.]\n"
     ]
    }
   ],
   "source": [
    "with tf.Session() as sess:\n",
    "    print(sess.run(index))"
   ]
  },
  {
   "cell_type": "markdown",
   "metadata": {},
   "source": [
    "## 2.교훈:cost function의 적절한 value 값의 범위를 파악해야한다.\n",
    "즉 cost function이니까 제일 작은건 0인데, 큰거는 몇까지 커지는거지? 대충 0.5로 맞을 때는 cost가 몇정도 나오지? 이런 식으로말이다."
   ]
  },
  {
   "cell_type": "code",
   "execution_count": 3,
   "metadata": {
    "code_folding": []
   },
   "outputs": [
    {
     "name": "stdout",
     "output_type": "stream",
     "text": [
      "WARNING:tensorflow:From <ipython-input-3-cf263cb99723>:8: softmax_cross_entropy_with_logits (from tensorflow.python.ops.nn_ops) is deprecated and will be removed in a future version.\n",
      "Instructions for updating:\n",
      "\n",
      "Future major versions of TensorFlow will allow gradients to flow\n",
      "into the labels input on backprop by default.\n",
      "\n",
      "See tf.nn.softmax_cross_entropy_with_logits_v2.\n",
      "\n",
      "               first_logits=10               \n",
      "Index        Prob  -1*log(Prob)          loss\n",
      "  x=0   0.9995916     0.0004085     0.0004085\n",
      "  x=1   0.9995136     0.0004865     0.0004865\n",
      "  x=2   0.9993018     0.0006984     0.0006984\n",
      "  x=3   0.9987265     0.0012743     0.0012743\n",
      "  x=4   0.9971661     0.0028379     0.0028379\n",
      "  x=5   0.9929489     0.0070761     0.0070761\n",
      "  x=6   0.9816637     0.0185065     0.0185065\n",
      "  x=7   0.9522447     0.0489333     0.0489333\n",
      "  x=8   0.8805154     0.1272479     0.1272479\n",
      "  x=9   0.7308645     0.3135272     0.3135272\n",
      " x=10   0.4999092     0.6933288     0.6933288\n",
      " x=11   0.2689152     1.3133594     1.3133594\n",
      " x=12   0.1191978     2.1269713     2.1269713\n",
      " x=13   0.0474251     3.0486046     3.0486046\n",
      " x=14   0.0179861     4.0181565     4.0181565\n",
      " x=15   0.0066928     5.0067178     5.0067178\n",
      " x=16   0.0024726     6.0024766     6.0024766\n",
      " x=17   0.0009111     7.0009118     7.0009118\n",
      " x=18   0.0003354     8.0003355     8.0003355\n",
      " x=19   0.0001234     9.0001234     9.0001234\n",
      " x=20   0.0000454    10.0000454    10.0000454\n",
      " x=21   0.0000167    11.0000167    11.0000167\n",
      " x=22   0.0000061    12.0000061    12.0000061\n",
      " x=23   0.0000023    13.0000023    13.0000023\n",
      " x=24   0.0000008    14.0000008    14.0000008\n",
      " x=25   0.0000003    15.0000003    15.0000003\n",
      " x=26   0.0000001    16.0000001    16.0000001\n",
      " x=27   0.0000000    17.0000000    17.0000000\n",
      " x=28   0.0000000    18.0000000    18.0000000\n",
      " x=29   0.0000000    19.0000000    19.0000000\n",
      " x=30   0.0000000    20.0000000    20.0000000\n",
      " x=31   0.0000000    21.0000000    21.0000000\n",
      " x=32   0.0000000    22.0000000    22.0000000\n",
      " x=33   0.0000000    23.0000000    23.0000000\n",
      " x=34   0.0000000    24.0000000    24.0000000\n",
      " x=35   0.0000000    25.0000000    25.0000000\n",
      " x=36   0.0000000    26.0000000    26.0000000\n",
      " x=37   0.0000000    27.0000000    27.0000000\n",
      " x=38   0.0000000    28.0000000    28.0000000\n",
      " x=39   0.0000000    29.0000000    29.0000000\n",
      " x=40   0.0000000    30.0000000    30.0000000\n",
      " x=41   0.0000000    31.0000000    31.0000000\n",
      " x=42   0.0000000    32.0000000    32.0000000\n",
      " x=43   0.0000000    33.0000000    33.0000000\n",
      " x=44   0.0000000    34.0000000    34.0000000\n",
      " x=45   0.0000000    35.0000000    35.0000000\n",
      " x=46   0.0000000    36.0000000    36.0000000\n",
      " x=47   0.0000000    37.0000000    37.0000000\n",
      " x=48   0.0000000    38.0000000    38.0000000\n",
      " x=49   0.0000000    39.0000000    39.0000000\n"
     ]
    }
   ],
   "source": [
    "import numpy as np\n",
    "#loss = tf.reduce_mean(tf.nn.softmax_cross_entropy_with_logits(labels=yt_one, logits=y), name=\"loss\")\n",
    "#loss=tf.nn.softmax_cross_entropy_with_logits(labels=yt_one, logits=y)\n",
    "n=50\n",
    "first_logits=10\n",
    "labels=np.array([[1.,0,0,0,0,0,0,0,0,0]]*n)\n",
    "logits=np.array([[first_logits,x,0.,0,0,0,0,0,0,0] for x in range(n)])\n",
    "loss=tf.nn.softmax_cross_entropy_with_logits(labels=labels,logits=logits)\n",
    "with tf.Session() as sess:\n",
    "    print(\"{title:^45}\".format(title=\"first_logits=\"+str(first_logits)))\n",
    "    print(\"%5s%12s%14s%14s\"%('Index','Prob','-1*log(Prob)','loss'))\n",
    "    for i in range(n):\n",
    "        a,c=sess.run([tf.nn.softmax(logits[i])[0],loss[i]])\n",
    "        b=-np.log2(a)/np.log2(2.718281828)\n",
    "        print(\"%5s%12.7f%14.7f%14.7f\"%('x='+str(i),a,b,c))\n",
    "        #50%확률로 정답일 때 0.7정도의 loss를 가지는 것을 알 수 있다.\n",
    "        #즉 0.7이 넘으면 틀린거야!\n",
    "    \n"
   ]
  },
  {
   "cell_type": "code",
   "execution_count": null,
   "metadata": {},
   "outputs": [],
   "source": []
  }
 ],
 "metadata": {
  "kernelspec": {
   "display_name": "Python 3",
   "language": "python",
   "name": "python3"
  },
  "language_info": {
   "codemirror_mode": {
    "name": "ipython",
    "version": 3
   },
   "file_extension": ".py",
   "mimetype": "text/x-python",
   "name": "python",
   "nbconvert_exporter": "python",
   "pygments_lexer": "ipython3",
   "version": "3.5.5"
  },
  "varInspector": {
   "cols": {
    "lenName": 16,
    "lenType": 16,
    "lenVar": "55"
   },
   "kernels_config": {
    "python": {
     "delete_cmd_postfix": "",
     "delete_cmd_prefix": "del ",
     "library": "var_list.py",
     "varRefreshCmd": "print(var_dic_list())"
    },
    "r": {
     "delete_cmd_postfix": ") ",
     "delete_cmd_prefix": "rm(",
     "library": "var_list.r",
     "varRefreshCmd": "cat(var_dic_list()) "
    }
   },
   "types_to_exclude": [
    "module",
    "function",
    "builtin_function_or_method",
    "instance",
    "_Feature"
   ],
   "window_display": false
  }
 },
 "nbformat": 4,
 "nbformat_minor": 2
}
