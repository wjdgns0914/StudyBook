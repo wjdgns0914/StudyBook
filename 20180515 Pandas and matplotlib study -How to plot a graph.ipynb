{
 "cells": [
  {
   "cell_type": "markdown",
   "metadata": {},
   "source": [
    "안녕? 그래프를 그리는 방법에 관한 주피터노트북이야! <br>\n",
    "너가 그릴 때마다 매번 찾는게 너무 답답해서 정리를 하니 앞으로는 좀 효율적으로 그래프를 그리면 좋겠다. 알겠니 이 총명하지 못한 녀석아? <br>일단 그래프를 주피터에 그리는거 자체는 matplotlib를 사용하게 될거야. pandas는 데이터를 조금 더 효율적으로 구성할 수 있도록 도와주는 녀석이야 가장 일반적인 예를 보여줄게."
   ]
  },
  {
   "cell_type": "markdown",
   "metadata": {},
   "source": [
    "### matplotlib의 사용법 "
   ]
  },
  {
   "cell_type": "code",
   "execution_count": 13,
   "metadata": {},
   "outputs": [
    {
     "data": {
      "image/png": "[encoded data removed]",
      "text/plain": [
       "<Figure size 432x288 with 2 Axes>"
      ]
     },
     "metadata": {},
     "output_type": "display_data"
    }
   ],
   "source": [
    "import matplotlib.pyplot as plt\n",
    "fig = plt.figure()\n",
    "\n",
    "ax1 = fig.add_subplot(121)\n",
    "ax1.plot([1, 5])  #이렇게 적으면 x좌표는 integer로 들어가고, 내가 쓴 데이터는 y축 데이터로 들어가게 된다.\n",
    "\n",
    "ax2 = fig.add_subplot(122)\n",
    "ax2.plot([0.1,0.2,3,40],[5, 7,11,12])  #이렇게 적으면 첫번째 list는 x축, 두번째 list는 y축 데이터로 들어간다.\n",
    "plt.show()"
   ]
  },
  {
   "cell_type": "markdown",
   "metadata": {},
   "source": [
    "### pandas의 사용법\n",
    "table을 아주 쉽게 구성 할 수 있게 해준다. 아래와 같이. 참고로 첫번째 예제에서는 list가 data로 들어가는데 이 경우 list의 members를 차례대로 row로 구성해준다."
   ]
  },
  {
   "cell_type": "code",
   "execution_count": 29,
   "metadata": {},
   "outputs": [
    {
     "name": "stdout",
     "output_type": "stream",
     "text": [
      "table1\n",
      "    0   1   2   3\n",
      "0   1   2   3   4\n",
      "1  11  22  33  44\n",
      "table2\n",
      "      0   1   2   3\n",
      "one   1   2   3   4\n",
      "two  11  22  33  44\n",
      "table3\n",
      "   apple  banana  coffee  donut\n",
      "0      1       2       3      4\n",
      "1     11      22      33     44\n"
     ]
    }
   ],
   "source": [
    "import pandas as pd\n",
    "a=[[1,2,3,4],[11,22,33,44]]\n",
    "table1=pd.DataFrame(a)\n",
    "table2=pd.DataFrame(a,index=['one','two'])\n",
    "table3=pd.DataFrame(a,columns=['apple','banana','coffee','donut'])\n",
    "print('Table1')\n",
    "print(table1)\n",
    "print('Table2')\n",
    "print(table2)\n",
    "print('Table3')\n",
    "print(table3)"
   ]
  },
  {
   "cell_type": "markdown",
   "metadata": {},
   "source": [
    "members를 차례대로 column으로 구성해주려면 아래와 같이 하도록하자. 위의 list를 numpy array로 바꾸면 transpose를 할 수 있는데 그렇게 해도 되고~  "
   ]
  },
  {
   "cell_type": "code",
   "execution_count": 31,
   "metadata": {},
   "outputs": [
    {
     "name": "stdout",
     "output_type": "stream",
     "text": [
      "              close     high      low     open\n",
      "2017.02.28  1922000  1938000  1898000  1903000\n",
      "2017.02.27  1903000  1907000  1885000  1901000\n",
      "2017.02.24  1911000  1955000  1903000  1948000\n",
      "2017.02.23  1959000  1972000  1951000  1951000\n",
      "2017.02.22  1965000  1967000  1949000  1950000\n"
     ]
    }
   ],
   "source": [
    "date = ['2017.02.22', '2017.02.23', '2017.02.24', '2017.02.27', '2017.02.28']\n",
    "raw_data = {'open': [1903000, 1901000, 1948000, 1951000, 1950000],\n",
    "            'close': [1922000, 1903000, 1911000, 1959000, 1965000],\n",
    "            'high': [1938000, 1907000, 1955000, 1972000, 1967000],\n",
    "            'low': [1898000, 1885000, 1903000, 1951000, 1949000]}\n",
    "samsung2 = pd.DataFrame(raw_data, index=reversed(date))\n",
    "print(samsung2)"
   ]
  },
  {
   "cell_type": "code",
   "execution_count": null,
   "metadata": {},
   "outputs": [],
   "source": []
  }
 ],
 "metadata": {
  "kernelspec": {
   "display_name": "Python 3",
   "language": "python",
   "name": "python3"
  },
  "language_info": {
   "codemirror_mode": {
    "name": "ipython",
    "version": 3
   },
   "file_extension": ".py",
   "mimetype": "text/x-python",
   "name": "python",
   "nbconvert_exporter": "python",
   "pygments_lexer": "ipython3",
   "version": "3.5.5"
  }
 },
 "nbformat": 4,
 "nbformat_minor": 2
}
