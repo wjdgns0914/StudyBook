{
 "cells": [
  {
   "cell_type": "markdown",
   "metadata": {},
   "source": [
    "## tf.set_random_seed()는 numpy.random에는 적용되는가?\n",
    "결론:안된다, 넘피는 따로 random_seed지정해주자"
   ]
  },
  {
   "cell_type": "code",
   "execution_count": 4,
   "metadata": {},
   "outputs": [
    {
     "name": "stdout",
     "output_type": "stream",
     "text": [
      "a1= [0.5720883  0.16616085 1.1379486  1.1132952  0.04699084]\n",
      "a2= [-0.35783583 -0.72820492 -0.64208645 -0.31704766 -1.21900143]\n"
     ]
    }
   ],
   "source": [
    "import tensorflow as tf\n",
    "import numpy as np\n",
    "tf.set_random_seed(5)\n",
    "a1= tf.random_normal(shape=[5],mean=0.,stddev=1.)\n",
    "a2= np.random.normal(loc=0.,scale=1.,size=[5,])\n",
    "with tf.Session() as sess:\n",
    "    print(\"a1=\",sess.run(a1))\n",
    "    print(\"a2=\",a2)"
   ]
  },
  {
   "cell_type": "markdown",
   "metadata": {},
   "source": [
    "1회차:<br>\n",
    "    a1= [-1.4616988  -0.5901872   0.492833    0.70668614 -0.6822853 ]<br>\n",
    "    a2= [-0.65482653 -0.80412337  0.89024141  0.64903114 -0.1268015 ]<br>\n",
    "2회차:<br>\n",
    "    a1= [-1.4616988  -0.5901872   0.492833    0.70668614 -0.6822853 ]<br>\n",
    "    a2= [ 0.11588816  2.1031995  -0.31921911  0.99015154 -0.23687762]<br>"
   ]
  },
  {
   "cell_type": "code",
   "execution_count": 3,
   "metadata": {},
   "outputs": [
    {
     "name": "stdout",
     "output_type": "stream",
     "text": [
      "a1= [-0.4773264  -0.15574305  1.4402808  -0.30801302 -1.1182173 ]\n",
      "a2= [ 1.71718429  0.32469333 -0.4745434  -0.1379183   0.52493957]\n"
     ]
    }
   ],
   "source": [
    "np.random.seed(333)\n",
    "a1= tf.random_normal(shape=[5],mean=0.,stddev=1.)\n",
    "a2= np.random.normal(loc=0.,scale=1.,size=[5])\n",
    "with tf.Session() as sess:\n",
    "    print(\"a1=\",sess.run(a1))\n",
    "    print(\"a2=\",a2)"
   ]
  },
  {
   "cell_type": "markdown",
   "metadata": {},
   "source": [
    "1회차:<br>\n",
    "    a1= [ 0.535279    0.1320366  -1.8791082   0.10361496 -0.02685229]<br>\n",
    "    a2= [ 1.71718429  0.32469333 -0.4745434  -0.1379183   0.52493957]<br>\n",
    "2회차:<br>\n",
    "    a1= [ 0.535279    0.1320366  -1.8791082   0.10361496 -0.02685229]<br>\n",
    "    a2= [ 1.71718429  0.32469333 -0.4745434  -0.1379183   0.52493957]<br>"
   ]
  },
  {
   "cell_type": "code",
   "execution_count": null,
   "metadata": {},
   "outputs": [],
   "source": []
  }
 ],
 "metadata": {
  "kernelspec": {
   "display_name": "Python 3",
   "language": "python",
   "name": "python3"
  },
  "language_info": {
   "codemirror_mode": {
    "name": "ipython",
    "version": 3
   },
   "file_extension": ".py",
   "mimetype": "text/x-python",
   "name": "python",
   "nbconvert_exporter": "python",
   "pygments_lexer": "ipython3",
   "version": "3.5.5"
  }
 },
 "nbformat": 4,
 "nbformat_minor": 2
}
