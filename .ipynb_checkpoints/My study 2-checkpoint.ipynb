{
 "cells": [
  {
   "cell_type": "code",
   "execution_count": 1,
   "metadata": {},
   "outputs": [],
   "source": [
    "import numpy as np\n",
    "import tensorflow as tf\n",
    "import sys"
   ]
  },
  {
   "cell_type": "markdown",
   "metadata": {},
   "source": [
    "## 1.파이썬 코드 중간에 종료하는 방법 sys.exit() "
   ]
  },
  {
   "cell_type": "code",
   "execution_count": 2,
   "metadata": {},
   "outputs": [
    {
     "data": {
      "text/plain": [
       "'3.5.5 |Anaconda, Inc.| (default, Mar 12 2018, 17:44:09) [MSC v.1900 64 bit (AMD64)]'"
      ]
     },
     "execution_count": 2,
     "metadata": {},
     "output_type": "execute_result"
    }
   ],
   "source": [
    "sys.version"
   ]
  },
  {
   "cell_type": "code",
   "execution_count": 14,
   "metadata": {},
   "outputs": [
    {
     "ename": "SystemExit",
     "evalue": "",
     "output_type": "error",
     "traceback": [
      "An exception has occurred, use %tb to see the full traceback.\n",
      "\u001b[1;31mSystemExit\u001b[0m\n"
     ]
    },
    {
     "name": "stderr",
     "output_type": "stream",
     "text": [
      "d:\\anaconda\\envs\\tensorflow\\lib\\site-packages\\IPython\\core\\interactiveshell.py:2918: UserWarning: To exit: use 'exit', 'quit', or Ctrl-D.\n",
      "  warn(\"To exit: use 'exit', 'quit', or Ctrl-D.\", stacklevel=1)\n"
     ]
    }
   ],
   "source": [
    "sys.exit()"
   ]
  },
  {
   "cell_type": "markdown",
   "metadata": {},
   "source": [
    "## 2.argv다루는 방법"
   ]
  },
  {
   "cell_type": "code",
   "execution_count": 12,
   "metadata": {},
   "outputs": [
    {
     "name": "stdout",
     "output_type": "stream",
     "text": [
      "['d:\\\\anaconda\\\\envs\\\\tensorflow\\\\lib\\\\site-packages\\\\ipykernel_launcher.py', '-f', 'C:\\\\Users\\\\lizx\\\\AppData\\\\Roaming\\\\jupyter\\\\runtime\\\\kernel-1652767f-59f3-4485-9312-6b6cc02a17cb.json']\n"
     ]
    },
    {
     "ename": "SystemExit",
     "evalue": "",
     "output_type": "error",
     "traceback": [
      "An exception has occurred, use %tb to see the full traceback.\n",
      "\u001b[1;31mSystemExit\u001b[0m\n"
     ]
    },
    {
     "name": "stderr",
     "output_type": "stream",
     "text": [
      "d:\\anaconda\\envs\\tensorflow\\lib\\site-packages\\IPython\\core\\interactiveshell.py:2918: UserWarning: To exit: use 'exit', 'quit', or Ctrl-D.\n",
      "  warn(\"To exit: use 'exit', 'quit', or Ctrl-D.\", stacklevel=1)\n"
     ]
    }
   ],
   "source": [
    "def main(argv=None):  # pylint: disable=unused-argument\n",
    "    print(argv)\n",
    "#     if argv:\n",
    "#         for filename in argv:\n",
    "#             print(filename)\n",
    "\n",
    "if __name__ == '__main__':\n",
    "    tf.app.run()"
   ]
  },
  {
   "cell_type": "markdown",
   "metadata": {},
   "source": [
    "위의 빨간박스 안에 있는 에러메세지는 argv를 주피터에서 써서 발생하는 문제 같다. 파이참에서 같은 코드를 돌리면 오류 없이 잘된다. 명령창에서 python main.py '명령어'를 넣으면 명령어 부분이 argparse로 들어간다. tf.app.run()은 그걸 파싱해서 main함수에 argv로 실행한다. 이 파싱 된 argv를 사용하는 방법은<br>\n",
    "1)flags로 하나씩 뽑아 쓴다<br>\n",
    "2)위의 코드처럼 main함수 안에서 argv를 list에서 하나씩 뽑아서 쓴다.<br>\n",
    "\n",
    "주의할건 주의깊게 쓰면 이 두가지 방법을 섞어 쓸 수 있지만 웬만하면 이 두가지 방법은 섞어쓰지 않는 것이 좋다는 것이다."
   ]
  },
  {
   "cell_type": "markdown",
   "metadata": {},
   "source": [
    "## 3.작은 함수들 모음"
   ]
  },
  {
   "cell_type": "markdown",
   "metadata": {},
   "source": [
    "### 1)자료형을 확인하는 방법"
   ]
  },
  {
   "cell_type": "code",
   "execution_count": 36,
   "metadata": {},
   "outputs": [
    {
     "name": "stdout",
     "output_type": "stream",
     "text": [
      "['BuiltinFunctionType', 'BuiltinMethodType', 'CodeType', 'CoroutineType', 'DynamicClassAttribute', 'FrameType', 'FunctionType', 'GeneratorType', 'GetSetDescriptorType', 'LambdaType', 'MappingProxyType', 'MemberDescriptorType', 'MethodType', 'ModuleType', 'SimpleNamespace', 'TracebackType', '_GeneratorWrapper', '__all__', '__builtins__', '__cached__', '__doc__', '__file__', '__loader__', '__name__', '__package__', '__spec__', '_calculate_meta', '_collections_abc', '_functools', 'coroutine', 'new_class', 'prepare_class']\n",
      "Integer type\n",
      "     False\n",
      "     False\n",
      "Boolean type\n",
      "     True\n",
      "     True\n",
      "Floating type\n",
      "     True\n",
      "     True\n"
     ]
    }
   ],
   "source": [
    "print(\"Integer type\")\n",
    "print(\"    \",isinstance(3,(float,bool)))\n",
    "print(\"    \",type(3)==type(1.1))\n",
    "print(\"Boolean type\")\n",
    "print(\"    \",isinstance(True,(float,int)))\n",
    "print(\"    \",type(True)==type(1))\n",
    "print(\"    \",type(True)==type(False))\n",
    "print(\"Floating type\")\n",
    "print(\"    \",isinstance(2.2,(float,bool)))\n",
    "print(\"    \",type(2.2)==type(1.2))\n"
   ]
  },
  {
   "cell_type": "code",
   "execution_count": null,
   "metadata": {},
   "outputs": [],
   "source": []
  }
 ],
 "metadata": {
  "kernelspec": {
   "display_name": "Python 3",
   "language": "python",
   "name": "python3"
  },
  "language_info": {
   "codemirror_mode": {
    "name": "ipython",
    "version": 3
   },
   "file_extension": ".py",
   "mimetype": "text/x-python",
   "name": "python",
   "nbconvert_exporter": "python",
   "pygments_lexer": "ipython3",
   "version": "3.5.5"
  }
 },
 "nbformat": 4,
 "nbformat_minor": 2
}
